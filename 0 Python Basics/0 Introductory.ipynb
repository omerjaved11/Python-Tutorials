{
 "cells": [
  {
   "cell_type": "markdown",
   "metadata": {},
   "source": [
    "### FA15-BCS-100\n",
    "### Omer Javed\n"
   ]
  },
  {
   "cell_type": "markdown",
   "metadata": {},
   "source": [
    "#### What is Data Science\n",
    "* data science is all about uncovering findings from data.\n",
    "* Data science is an interdisciplinary field that uses scientific methods, processes, algorithms and systems to extract knowledge and insights from data in various forms, both structured and unstructured, similar to data mining.\n",
    "* Data science is a \"concept to unify statistics, data analysis, machine learning and their related methods\" in order to \"understand and analyze actual phenomena\" with data"
   ]
  },
  {
   "cell_type": "markdown",
   "metadata": {},
   "source": [
    "#### Data Scientist\n",
    "* A data scientist is the adult version of the kid who can’t stop asking “Why?”\n",
    "* Data scientists are a new breed of analytical data expert who have the technical skills to solve complex problems – and the curiosity to explore what problems need to be solved.\n",
    "* They’re part mathematician, part computer scientist"
   ]
  },
  {
   "cell_type": "markdown",
   "metadata": {},
   "source": [
    "#### Motivation\n",
    "* Jobs requiring machine learning skills are paying an average of  114,000 Advertised data scientist jobs pay an average of 105,000 USD 'and advertised data engineering jobs pay an average of 117,000 USD.\n",
    "\n",
    "* IBM Predicts Demand For Data Scientists Will Soar 28% By 2020\n",
    "*  Data science is an exciting, fast-moving field to become involved in. There’s no shortage of demand for talented, analytically-minded individuals. Companies of all sizes are hiring data scientists, and the role provides real value across a wide range of industries and applications."
   ]
  },
  {
   "cell_type": "markdown",
   "metadata": {},
   "source": [
    "### Popular Languages for Data Science\n",
    "* Python\n",
    "    * Python is at the top of all other languages and is the most popular language used by data scientists.\n",
    "    * Python is rapidly gaining mainstream appeal and becoming a more practical language to build products.\n",
    "    * Python is a powerful tool for medium-scale data processing.\n",
    "    * Python also has the advantage of a rich data community, offering vast amounts of toolkits and features.\n",
    "\n",
    "* R\n",
    "    * R has been kicking around since 1997 as a free alternative to pricey statistical software, such as Matlab or SAS.\n",
    "    * R has become the golden child of data science.\n",
    "    * Not only nerdy statisticians but also Wall Street traders, biologists, and Silicon Valley developers. Companies as diverse as Google, Facebook, Bank of America, and the New York Times all use R, as its commercial utility continues to spread.\n",
    "\n",
    "* Java\n",
    "    * Java and Java-based frameworks are found deep in the skeletons of the biggest Silicon Valley tech companies.\n",
    "    * Java doesn’t provide the same quality of visualizations R and Python do.\n",
    "    * it isn’t the best for statistical modeling.\n",
    "    * if you are moving past prototyping and need to build large systems, Java is often your best bet.\n",
    "    * The suite of tools for Java is pretty well developed.\n",
    "   \n",
    "* Scala\n",
    "    * Scala is another Java-based language.\n",
    "    * It is  becoming the tool for anyone doing machine learning at large scales.\n",
    "    *It is Used to  building high-level algorithms.\n",
    "    * It’s expressive and also capable of building robust systems.\n",
    "\n",
    "* There are many other languages which are popular and used widely for data science. Some of them are C/C++, Scala, Julia, Closure, Lisp, Perl, etc.\n"
   ]
  },
  {
   "cell_type": "markdown",
   "metadata": {},
   "source": [
    "### Python\n",
    "* Invented by Guido van Rossum in 1991\n",
    "* On name of famous comedian group monty python\n",
    "##### Applications of Python\n",
    "* Web frameworks and web applications\n",
    "* Operating systems\n",
    "* Language development\n",
    "* GUI based desktop applications"
   ]
  },
  {
   "cell_type": "markdown",
   "metadata": {},
   "source": [
    "### Why Python\n",
    "\n",
    "* Python is a high-level\n",
    "* The syntax in Python helps the programmers to do coding in fewer steps as compared to Java or C++. \n",
    "* The software development companies prefer Python language because of its versatile features and fewer programming codes.\n",
    "* programmers prefer this language to other programming languages because it is easy to learn and code too"
   ]
  },
  {
   "cell_type": "markdown",
   "metadata": {},
   "source": [
    "#### Features of Python\n",
    "* Interactive\n",
    "* Interpreted\n",
    "* Modular\n",
    "* Dynamic\n",
    "* Object-oriented\n",
    "* Portable\n",
    "* High level\n",
    "* Extensible in C++ & C\n",
    "### Python Advantages and Disadvantages\n",
    "##### Advantages\n",
    "\n",
    "* Presence of Third Party Modules\n",
    "* Extensive Support Libraries\n",
    "* Open Source and Community Development\n",
    "* Learning Ease and Support Available\n",
    "* User-friendly Data Structures\n",
    "* Productivity and Speed\n",
    "##### Disadvantages\n",
    "* Gets Slow in Speed\n",
    "* Run-time Errors"
   ]
  },
  {
   "cell_type": "markdown",
   "metadata": {},
   "source": [
    "#### Applications of Python "
   ]
  },
  {
   "cell_type": "markdown",
   "metadata": {},
   "source": [
    "### For loop vs While loop "
   ]
  },
  {
   "cell_type": "code",
   "execution_count": 38,
   "metadata": {},
   "outputs": [
    {
     "name": "stdout",
     "output_type": "stream",
     "text": [
      "2.956390380859375e-05\n"
     ]
    }
   ],
   "source": [
    "import time\n",
    "start_time = time.time()\n",
    "\n",
    "print((time.time() - start_time))"
   ]
  },
  {
   "cell_type": "code",
   "execution_count": 1,
   "metadata": {},
   "outputs": [
    {
     "name": "stdout",
     "output_type": "stream",
     "text": [
      "0.9646233519999896\n"
     ]
    }
   ],
   "source": [
    "import timeit\n",
    "\n",
    "start = timeit.default_timer()\n",
    "\n",
    "#Your statements here\n",
    "\n",
    "stop = timeit.default_timer()\n",
    "\n",
    "print (float(stop) - int(start) )"
   ]
  },
  {
   "cell_type": "code",
   "execution_count": null,
   "metadata": {},
   "outputs": [],
   "source": []
  },
  {
   "cell_type": "code",
   "execution_count": null,
   "metadata": {},
   "outputs": [],
   "source": []
  },
  {
   "cell_type": "code",
   "execution_count": null,
   "metadata": {},
   "outputs": [],
   "source": []
  },
  {
   "cell_type": "code",
   "execution_count": null,
   "metadata": {},
   "outputs": [],
   "source": []
  },
  {
   "cell_type": "code",
   "execution_count": null,
   "metadata": {},
   "outputs": [],
   "source": []
  },
  {
   "cell_type": "code",
   "execution_count": null,
   "metadata": {},
   "outputs": [],
   "source": []
  },
  {
   "cell_type": "markdown",
   "metadata": {},
   "source": [
    "#### References\n",
    "* https://datajobs.com/what-is-data-science\n",
    "* https://en.wikipedia.org/wiki/Data_science\n",
    "* https://www.sas.com/en_us/insights/analytics/what-is-a-data-scientist.html\n",
    "* https://blog.alexa.com/know-data-science-important/\n",
    "* https://www.forbes.com/sites/louiscolumbus/2017/05/13/ibm-predicts-demand-for-data-scientists-will-soar-28-by-2020/#22eb0ae7e3bd\n",
    "* https://dzone.com/articles/which-are-the-popular-languages-for-data-science\n",
    "* https://www.invensis.net/blog/it/benefits-of-python-over-other-programming-languages/\n",
    "* https://medium.com/@mindfiresolutions.usa/advantages-and-disadvantages-of-python-programming-language-fd0b394f2121"
   ]
  }
 ],
 "metadata": {
  "kernelspec": {
   "display_name": "Python 3",
   "language": "python",
   "name": "python3"
  },
  "language_info": {
   "codemirror_mode": {
    "name": "ipython",
    "version": 3
   },
   "file_extension": ".py",
   "mimetype": "text/x-python",
   "name": "python",
   "nbconvert_exporter": "python",
   "pygments_lexer": "ipython3",
   "version": "3.7.0"
  }
 },
 "nbformat": 4,
 "nbformat_minor": 2
}
