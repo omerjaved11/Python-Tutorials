{
 "cells": [
  {
   "cell_type": "markdown",
   "metadata": {},
   "source": [
    "# Assignment 3"
   ]
  },
  {
   "cell_type": "markdown",
   "metadata": {},
   "source": [
    "## Text Classification Using Scikit-Learn"
   ]
  },
  {
   "cell_type": "markdown",
   "metadata": {},
   "source": [
    "### Introduction to Machine Learning "
   ]
  },
  {
   "cell_type": "markdown",
   "metadata": {},
   "source": [
    "## FA15-BCS\n",
    "## Omer Javed\n",
    "## Section A"
   ]
  },
  {
   "cell_type": "code",
   "execution_count": null,
   "metadata": {},
   "outputs": [],
   "source": []
  },
  {
   "cell_type": "markdown",
   "metadata": {},
   "source": [
    "# Phase 1 & 2"
   ]
  },
  {
   "cell_type": "markdown",
   "metadata": {},
   "source": [
    "## step 1 : Import Libraries"
   ]
  },
  {
   "cell_type": "code",
   "execution_count": 675,
   "metadata": {},
   "outputs": [],
   "source": [
    "import re\n",
    "import string\n",
    "import scipy\n",
    "import pickle\n",
    "import pandas as pd\n",
    "import numpy as np\n",
    "from sklearn.feature_extraction.text import *\n",
    "from sklearn.preprocessing import LabelEncoder\n",
    "from sklearn.svm import LinearSVC\n",
    "from sklearn.ensemble import RandomForestClassifier\n",
    "from sklearn.naive_bayes import BernoulliNB\n",
    "from sklearn.linear_model import LogisticRegression\n",
    "from sklearn.metrics import accuracy_score\n",
    "from prettytable import PrettyTable\n",
    "from astropy.table import Table,Column\n",
    "import seaborn as sns"
   ]
  },
  {
   "cell_type": "markdown",
   "metadata": {},
   "source": [
    "## Step 2: Read, Understand and Pre-process Train/Test Data"
   ]
  },
  {
   "cell_type": "markdown",
   "metadata": {},
   "source": [
    "Read, Understand and Pre-process Train/Test Data"
   ]
  },
  {
   "cell_type": "markdown",
   "metadata": {},
   "source": [
    "### Step 2.1: Read Data"
   ]
  },
  {
   "cell_type": "code",
   "execution_count": 676,
   "metadata": {},
   "outputs": [
    {
     "data": {
      "text/html": [
       "<div>\n",
       "<style scoped>\n",
       "    .dataframe tbody tr th:only-of-type {\n",
       "        vertical-align: middle;\n",
       "    }\n",
       "\n",
       "    .dataframe tbody tr th {\n",
       "        vertical-align: top;\n",
       "    }\n",
       "\n",
       "    .dataframe thead th {\n",
       "        text-align: right;\n",
       "    }\n",
       "</style>\n",
       "<table border=\"1\" class=\"dataframe\">\n",
       "  <thead>\n",
       "    <tr style=\"text-align: right;\">\n",
       "      <th></th>\n",
       "      <th>comment_text</th>\n",
       "      <th>gender</th>\n",
       "    </tr>\n",
       "  </thead>\n",
       "  <tbody>\n",
       "    <tr>\n",
       "      <th>0</th>\n",
       "      <td>r u cmng or u not cmng</td>\n",
       "      <td>male</td>\n",
       "    </tr>\n",
       "    <tr>\n",
       "      <th>1</th>\n",
       "      <td>r you cmng</td>\n",
       "      <td>female</td>\n",
       "    </tr>\n",
       "    <tr>\n",
       "      <th>2</th>\n",
       "      <td>I am fine, r u fine</td>\n",
       "      <td>male</td>\n",
       "    </tr>\n",
       "    <tr>\n",
       "      <th>3</th>\n",
       "      <td>m fn and you</td>\n",
       "      <td>female</td>\n",
       "    </tr>\n",
       "    <tr>\n",
       "      <th>4</th>\n",
       "      <td>my frnd is gr8, wll dn.</td>\n",
       "      <td>male</td>\n",
       "    </tr>\n",
       "    <tr>\n",
       "      <th>5</th>\n",
       "      <td>my best friend is great</td>\n",
       "      <td>female</td>\n",
       "    </tr>\n",
       "  </tbody>\n",
       "</table>\n",
       "</div>"
      ],
      "text/plain": [
       "              comment_text  gender\n",
       "0   r u cmng or u not cmng    male\n",
       "1               r you cmng  female\n",
       "2      I am fine, r u fine    male\n",
       "3             m fn and you  female\n",
       "4  my frnd is gr8, wll dn.    male\n",
       "5  my best friend is great  female"
      ]
     },
     "execution_count": 676,
     "metadata": {},
     "output_type": "execute_result"
    }
   ],
   "source": [
    "train_data = pd.read_csv('train.csv')\n",
    "train_data"
   ]
  },
  {
   "cell_type": "code",
   "execution_count": 677,
   "metadata": {},
   "outputs": [
    {
     "data": {
      "text/html": [
       "<div>\n",
       "<style scoped>\n",
       "    .dataframe tbody tr th:only-of-type {\n",
       "        vertical-align: middle;\n",
       "    }\n",
       "\n",
       "    .dataframe tbody tr th {\n",
       "        vertical-align: top;\n",
       "    }\n",
       "\n",
       "    .dataframe thead th {\n",
       "        text-align: right;\n",
       "    }\n",
       "</style>\n",
       "<table border=\"1\" class=\"dataframe\">\n",
       "  <thead>\n",
       "    <tr style=\"text-align: right;\">\n",
       "      <th></th>\n",
       "      <th>comment_text</th>\n",
       "      <th>gender</th>\n",
       "    </tr>\n",
       "  </thead>\n",
       "  <tbody>\n",
       "    <tr>\n",
       "      <th>0</th>\n",
       "      <td>plz go out, plz out with with frnd</td>\n",
       "      <td>male</td>\n",
       "    </tr>\n",
       "    <tr>\n",
       "      <th>1</th>\n",
       "      <td>r u going to walk, r u?</td>\n",
       "      <td>female</td>\n",
       "    </tr>\n",
       "    <tr>\n",
       "      <th>2</th>\n",
       "      <td>r you find</td>\n",
       "      <td>male</td>\n",
       "    </tr>\n",
       "    <tr>\n",
       "      <th>3</th>\n",
       "      <td>are you find</td>\n",
       "      <td>female</td>\n",
       "    </tr>\n",
       "  </tbody>\n",
       "</table>\n",
       "</div>"
      ],
      "text/plain": [
       "                         comment_text  gender\n",
       "0  plz go out, plz out with with frnd    male\n",
       "1             r u going to walk, r u?  female\n",
       "2                          r you find    male\n",
       "3                        are you find  female"
      ]
     },
     "execution_count": 677,
     "metadata": {},
     "output_type": "execute_result"
    }
   ],
   "source": [
    "test_data = pd.read_csv('test.csv')\n",
    "test_data"
   ]
  },
  {
   "cell_type": "markdown",
   "metadata": {},
   "source": [
    "### Step 2.2: Understand Data"
   ]
  },
  {
   "cell_type": "code",
   "execution_count": 678,
   "metadata": {},
   "outputs": [
    {
     "name": "stdout",
     "output_type": "stream",
     "text": [
      "Train Dataset Columns: \n"
     ]
    },
    {
     "data": {
      "text/plain": [
       "Index(['comment_text', 'gender'], dtype='object')"
      ]
     },
     "execution_count": 678,
     "metadata": {},
     "output_type": "execute_result"
    }
   ],
   "source": [
    "print('Train Dataset Columns: ')\n",
    "train_data.columns"
   ]
  },
  {
   "cell_type": "code",
   "execution_count": 679,
   "metadata": {},
   "outputs": [
    {
     "name": "stdout",
     "output_type": "stream",
     "text": [
      "Number of instaces in Train Dataset:\n",
      "Train Instances:  6\n"
     ]
    }
   ],
   "source": [
    "print('Number of instaces in Train Dataset:')\n",
    "print(\"Train Instances: \",len(train_data))"
   ]
  },
  {
   "cell_type": "code",
   "execution_count": 680,
   "metadata": {},
   "outputs": [
    {
     "data": {
      "text/plain": [
       "Index(['comment_text', 'gender'], dtype='object')"
      ]
     },
     "execution_count": 680,
     "metadata": {},
     "output_type": "execute_result"
    }
   ],
   "source": [
    "train_data.columns"
   ]
  },
  {
   "cell_type": "code",
   "execution_count": 681,
   "metadata": {},
   "outputs": [
    {
     "name": "stdout",
     "output_type": "stream",
     "text": [
      "Number of instaces in Test Dataset:\n",
      "Test Instances:  4\n"
     ]
    }
   ],
   "source": [
    "print('Number of instaces in Test Dataset:')\n",
    "print(\"Test Instances: \",len(test_data))"
   ]
  },
  {
   "cell_type": "code",
   "execution_count": 682,
   "metadata": {},
   "outputs": [
    {
     "name": "stdout",
     "output_type": "stream",
     "text": [
      "Number of instance of Male / Female in Train data:\n"
     ]
    },
    {
     "data": {
      "text/plain": [
       "female    3\n",
       "male      3\n",
       "Name: gender, dtype: int64"
      ]
     },
     "execution_count": 682,
     "metadata": {},
     "output_type": "execute_result"
    }
   ],
   "source": [
    "print('Number of instance of Male / Female in Train data:')\n",
    "train_data.gender.value_counts()"
   ]
  },
  {
   "cell_type": "code",
   "execution_count": 683,
   "metadata": {
    "scrolled": true
   },
   "outputs": [
    {
     "name": "stdout",
     "output_type": "stream",
     "text": [
      "Number of instance of Male / Female in Test data:\n"
     ]
    },
    {
     "data": {
      "text/plain": [
       "female    2\n",
       "male      2\n",
       "Name: gender, dtype: int64"
      ]
     },
     "execution_count": 683,
     "metadata": {},
     "output_type": "execute_result"
    }
   ],
   "source": [
    "print('Number of instance of Male / Female in Test data:')\n",
    "test_data.gender.value_counts()"
   ]
  },
  {
   "cell_type": "code",
   "execution_count": 684,
   "metadata": {},
   "outputs": [
    {
     "name": "stdout",
     "output_type": "stream",
     "text": [
      "Comments by 'Male' in Train Dataset:\n"
     ]
    },
    {
     "data": {
      "text/html": [
       "<div>\n",
       "<style scoped>\n",
       "    .dataframe tbody tr th:only-of-type {\n",
       "        vertical-align: middle;\n",
       "    }\n",
       "\n",
       "    .dataframe tbody tr th {\n",
       "        vertical-align: top;\n",
       "    }\n",
       "\n",
       "    .dataframe thead th {\n",
       "        text-align: right;\n",
       "    }\n",
       "</style>\n",
       "<table border=\"1\" class=\"dataframe\">\n",
       "  <thead>\n",
       "    <tr style=\"text-align: right;\">\n",
       "      <th></th>\n",
       "      <th>comment_text</th>\n",
       "      <th>gender</th>\n",
       "    </tr>\n",
       "  </thead>\n",
       "  <tbody>\n",
       "    <tr>\n",
       "      <th>0</th>\n",
       "      <td>r u cmng or u not cmng</td>\n",
       "      <td>male</td>\n",
       "    </tr>\n",
       "    <tr>\n",
       "      <th>2</th>\n",
       "      <td>I am fine, r u fine</td>\n",
       "      <td>male</td>\n",
       "    </tr>\n",
       "    <tr>\n",
       "      <th>4</th>\n",
       "      <td>my frnd is gr8, wll dn.</td>\n",
       "      <td>male</td>\n",
       "    </tr>\n",
       "  </tbody>\n",
       "</table>\n",
       "</div>"
      ],
      "text/plain": [
       "              comment_text gender\n",
       "0   r u cmng or u not cmng   male\n",
       "2      I am fine, r u fine   male\n",
       "4  my frnd is gr8, wll dn.   male"
      ]
     },
     "execution_count": 684,
     "metadata": {},
     "output_type": "execute_result"
    }
   ],
   "source": [
    "print('Comments by \\'Male\\' in Train Dataset:')\n",
    "train_data[train_data.gender == 'male']"
   ]
  },
  {
   "cell_type": "code",
   "execution_count": 685,
   "metadata": {
    "scrolled": true
   },
   "outputs": [
    {
     "name": "stdout",
     "output_type": "stream",
     "text": [
      "Comments by 'Female' in Train Dataset:\n"
     ]
    },
    {
     "data": {
      "text/html": [
       "<div>\n",
       "<style scoped>\n",
       "    .dataframe tbody tr th:only-of-type {\n",
       "        vertical-align: middle;\n",
       "    }\n",
       "\n",
       "    .dataframe tbody tr th {\n",
       "        vertical-align: top;\n",
       "    }\n",
       "\n",
       "    .dataframe thead th {\n",
       "        text-align: right;\n",
       "    }\n",
       "</style>\n",
       "<table border=\"1\" class=\"dataframe\">\n",
       "  <thead>\n",
       "    <tr style=\"text-align: right;\">\n",
       "      <th></th>\n",
       "      <th>comment_text</th>\n",
       "      <th>gender</th>\n",
       "    </tr>\n",
       "  </thead>\n",
       "  <tbody>\n",
       "    <tr>\n",
       "      <th>1</th>\n",
       "      <td>r you cmng</td>\n",
       "      <td>female</td>\n",
       "    </tr>\n",
       "    <tr>\n",
       "      <th>3</th>\n",
       "      <td>m fn and you</td>\n",
       "      <td>female</td>\n",
       "    </tr>\n",
       "    <tr>\n",
       "      <th>5</th>\n",
       "      <td>my best friend is great</td>\n",
       "      <td>female</td>\n",
       "    </tr>\n",
       "  </tbody>\n",
       "</table>\n",
       "</div>"
      ],
      "text/plain": [
       "              comment_text  gender\n",
       "1               r you cmng  female\n",
       "3             m fn and you  female\n",
       "5  my best friend is great  female"
      ]
     },
     "execution_count": 685,
     "metadata": {},
     "output_type": "execute_result"
    }
   ],
   "source": [
    "print('Comments by \\'Female\\' in Train Dataset:')\n",
    "train_data[train_data.gender == 'female']"
   ]
  },
  {
   "cell_type": "code",
   "execution_count": 686,
   "metadata": {},
   "outputs": [
    {
     "name": "stdout",
     "output_type": "stream",
     "text": [
      "Comments by 'Male' in Test Dataset:\n"
     ]
    },
    {
     "data": {
      "text/html": [
       "<div>\n",
       "<style scoped>\n",
       "    .dataframe tbody tr th:only-of-type {\n",
       "        vertical-align: middle;\n",
       "    }\n",
       "\n",
       "    .dataframe tbody tr th {\n",
       "        vertical-align: top;\n",
       "    }\n",
       "\n",
       "    .dataframe thead th {\n",
       "        text-align: right;\n",
       "    }\n",
       "</style>\n",
       "<table border=\"1\" class=\"dataframe\">\n",
       "  <thead>\n",
       "    <tr style=\"text-align: right;\">\n",
       "      <th></th>\n",
       "      <th>comment_text</th>\n",
       "      <th>gender</th>\n",
       "    </tr>\n",
       "  </thead>\n",
       "  <tbody>\n",
       "    <tr>\n",
       "      <th>0</th>\n",
       "      <td>plz go out, plz out with with frnd</td>\n",
       "      <td>male</td>\n",
       "    </tr>\n",
       "    <tr>\n",
       "      <th>2</th>\n",
       "      <td>r you find</td>\n",
       "      <td>male</td>\n",
       "    </tr>\n",
       "  </tbody>\n",
       "</table>\n",
       "</div>"
      ],
      "text/plain": [
       "                         comment_text gender\n",
       "0  plz go out, plz out with with frnd   male\n",
       "2                          r you find   male"
      ]
     },
     "execution_count": 686,
     "metadata": {},
     "output_type": "execute_result"
    }
   ],
   "source": [
    "print('Comments by \\'Male\\' in Test Dataset:')\n",
    "test_data[test_data.gender == 'male']"
   ]
  },
  {
   "cell_type": "code",
   "execution_count": 687,
   "metadata": {
    "scrolled": false
   },
   "outputs": [
    {
     "name": "stdout",
     "output_type": "stream",
     "text": [
      "Comments by 'Female' in Train Dataset:\n"
     ]
    },
    {
     "data": {
      "text/html": [
       "<div>\n",
       "<style scoped>\n",
       "    .dataframe tbody tr th:only-of-type {\n",
       "        vertical-align: middle;\n",
       "    }\n",
       "\n",
       "    .dataframe tbody tr th {\n",
       "        vertical-align: top;\n",
       "    }\n",
       "\n",
       "    .dataframe thead th {\n",
       "        text-align: right;\n",
       "    }\n",
       "</style>\n",
       "<table border=\"1\" class=\"dataframe\">\n",
       "  <thead>\n",
       "    <tr style=\"text-align: right;\">\n",
       "      <th></th>\n",
       "      <th>comment_text</th>\n",
       "      <th>gender</th>\n",
       "    </tr>\n",
       "  </thead>\n",
       "  <tbody>\n",
       "    <tr>\n",
       "      <th>1</th>\n",
       "      <td>r u going to walk, r u?</td>\n",
       "      <td>female</td>\n",
       "    </tr>\n",
       "    <tr>\n",
       "      <th>3</th>\n",
       "      <td>are you find</td>\n",
       "      <td>female</td>\n",
       "    </tr>\n",
       "  </tbody>\n",
       "</table>\n",
       "</div>"
      ],
      "text/plain": [
       "              comment_text  gender\n",
       "1  r u going to walk, r u?  female\n",
       "3             are you find  female"
      ]
     },
     "execution_count": 687,
     "metadata": {},
     "output_type": "execute_result"
    }
   ],
   "source": [
    "print('Comments by \\'Female\\' in Train Dataset:')\n",
    "test_data[test_data.gender == 'female']"
   ]
  },
  {
   "cell_type": "markdown",
   "metadata": {},
   "source": [
    "#### Frequency Counter of Words in Male train data "
   ]
  },
  {
   "cell_type": "code",
   "execution_count": 688,
   "metadata": {},
   "outputs": [
    {
     "name": "stdout",
     "output_type": "stream",
     "text": [
      "Comments Frequency of males in Train data:\n"
     ]
    },
    {
     "data": {
      "text/plain": [
       "u        3\n",
       "r        2\n",
       "cmng     2\n",
       "frnd     1\n",
       "is       1\n",
       "am       1\n",
       "wll      1\n",
       "dn.      1\n",
       "fine,    1\n",
       "gr8,     1\n",
       "fine     1\n",
       "or       1\n",
       "I        1\n",
       "my       1\n",
       "not      1\n",
       "dtype: int64"
      ]
     },
     "execution_count": 688,
     "metadata": {},
     "output_type": "execute_result"
    }
   ],
   "source": [
    "print('Comments Frequency of males in Train data:')\n",
    "\n",
    "words_count_male_train_data = train_data[\n",
    "    train_data.gender=='male'].comment_text.str.split(\n",
    "    expand=True).stack().value_counts()\n",
    "words_count_male_train_data"
   ]
  },
  {
   "cell_type": "markdown",
   "metadata": {},
   "source": [
    "##### Understanding data via graphs"
   ]
  },
  {
   "cell_type": "code",
   "execution_count": 689,
   "metadata": {},
   "outputs": [
    {
     "name": "stdout",
     "output_type": "stream",
     "text": [
      "Bar graph of Words used by a male in Train Data\n"
     ]
    },
    {
     "data": {
      "text/plain": [
       "<matplotlib.axes._subplots.AxesSubplot at 0x7fa1ad1e09e8>"
      ]
     },
     "execution_count": 689,
     "metadata": {},
     "output_type": "execute_result"
    },
    {
     "data": {
      "image/png": "[encoded data removed]",
      "text/plain": [
       "<Figure size 432x288 with 1 Axes>"
      ]
     },
     "metadata": {
      "needs_background": "light"
     },
     "output_type": "display_data"
    }
   ],
   "source": [
    "print('Bar graph of Words used by a male in Train Data')\n",
    "sns.barplot(x = words_count_male_train_data.keys(),\n",
    "            y =words_count_male_train_data.values)\n"
   ]
  },
  {
   "cell_type": "markdown",
   "metadata": {},
   "source": [
    "#### Frequency Counter of Words in Female train data "
   ]
  },
  {
   "cell_type": "code",
   "execution_count": 690,
   "metadata": {
    "scrolled": true
   },
   "outputs": [
    {
     "name": "stdout",
     "output_type": "stream",
     "text": [
      "Comments Frequency of Females in Train data:\n"
     ]
    },
    {
     "data": {
      "text/plain": [
       "you       2\n",
       "is        1\n",
       "and       1\n",
       "m         1\n",
       "fn        1\n",
       "best      1\n",
       "my        1\n",
       "great     1\n",
       "cmng      1\n",
       "friend    1\n",
       "r         1\n",
       "dtype: int64"
      ]
     },
     "execution_count": 690,
     "metadata": {},
     "output_type": "execute_result"
    }
   ],
   "source": [
    "print('Comments Frequency of Females in Train data:')\n",
    "\n",
    "words_count_female_train_data = train_data[\n",
    "    train_data.gender=='female'].comment_text.str.split(\n",
    "    expand=True).stack().value_counts()\n",
    "words_count_female_train_data"
   ]
  },
  {
   "cell_type": "markdown",
   "metadata": {},
   "source": [
    "##### Understanding data via graphs"
   ]
  },
  {
   "cell_type": "code",
   "execution_count": 691,
   "metadata": {
    "scrolled": true
   },
   "outputs": [
    {
     "name": "stdout",
     "output_type": "stream",
     "text": [
      "Bar graph of Words used by a female in Train Data\n"
     ]
    },
    {
     "data": {
      "text/plain": [
       "<matplotlib.axes._subplots.AxesSubplot at 0x7fa1ad234b38>"
      ]
     },
     "execution_count": 691,
     "metadata": {},
     "output_type": "execute_result"
    },
    {
     "data": {
      "image/png": "[encoded data removed]",
      "text/plain": [
       "<Figure size 432x288 with 1 Axes>"
      ]
     },
     "metadata": {
      "needs_background": "light"
     },
     "output_type": "display_data"
    }
   ],
   "source": [
    "print('Bar graph of Words used by a female in Train Data')\n",
    "sns.barplot(x = words_count_female_train_data.keys(),\n",
    "            y =words_count_female_train_data.values)\n"
   ]
  },
  {
   "cell_type": "markdown",
   "metadata": {},
   "source": [
    "#### Frequency Counter of Words in Male test data "
   ]
  },
  {
   "cell_type": "code",
   "execution_count": 692,
   "metadata": {},
   "outputs": [
    {
     "name": "stdout",
     "output_type": "stream",
     "text": [
      "Comments Frequency of males in Test data:\n"
     ]
    },
    {
     "data": {
      "text/plain": [
       "with    2\n",
       "plz     2\n",
       "go      1\n",
       "you     1\n",
       "frnd    1\n",
       "find    1\n",
       "out     1\n",
       "out,    1\n",
       "r       1\n",
       "dtype: int64"
      ]
     },
     "execution_count": 692,
     "metadata": {},
     "output_type": "execute_result"
    }
   ],
   "source": [
    "print('Comments Frequency of males in Test data:')\n",
    "\n",
    "words_count_male_test_data = test_data[\n",
    "    test_data.gender=='male'].comment_text.str.split(\n",
    "    expand=True).stack().value_counts()\n",
    "words_count_male_test_data"
   ]
  },
  {
   "cell_type": "markdown",
   "metadata": {},
   "source": [
    "##### Understanding data via graphs"
   ]
  },
  {
   "cell_type": "code",
   "execution_count": 693,
   "metadata": {
    "scrolled": true
   },
   "outputs": [
    {
     "name": "stdout",
     "output_type": "stream",
     "text": [
      "Bar graph of Words used by a male in Test Data\n"
     ]
    },
    {
     "data": {
      "text/plain": [
       "<matplotlib.axes._subplots.AxesSubplot at 0x7fa1ad0b0048>"
      ]
     },
     "execution_count": 693,
     "metadata": {},
     "output_type": "execute_result"
    },
    {
     "data": {
      "image/png": "[encoded data removed]",
      "text/plain": [
       "<Figure size 432x288 with 1 Axes>"
      ]
     },
     "metadata": {
      "needs_background": "light"
     },
     "output_type": "display_data"
    }
   ],
   "source": [
    "print('Bar graph of Words used by a male in Test Data')\n",
    "sns.barplot(x = words_count_male_test_data.keys(),\n",
    "            y =words_count_male_test_data.values)\n"
   ]
  },
  {
   "cell_type": "markdown",
   "metadata": {},
   "source": [
    "#### Frequency Counter of Words in Female test data "
   ]
  },
  {
   "cell_type": "code",
   "execution_count": 694,
   "metadata": {
    "scrolled": true
   },
   "outputs": [
    {
     "name": "stdout",
     "output_type": "stream",
     "text": [
      "Comments Frequency of Females in Test data:\n"
     ]
    },
    {
     "data": {
      "text/plain": [
       "r        2\n",
       "going    1\n",
       "you      1\n",
       "find     1\n",
       "are      1\n",
       "u?       1\n",
       "walk,    1\n",
       "to       1\n",
       "u        1\n",
       "dtype: int64"
      ]
     },
     "execution_count": 694,
     "metadata": {},
     "output_type": "execute_result"
    }
   ],
   "source": [
    "\n",
    "print('Comments Frequency of Females in Test data:')\n",
    "\n",
    "words_count_female_test_data = test_data[\n",
    "    test_data.gender=='female'].comment_text.str.split(\n",
    "    expand=True).stack().value_counts()\n",
    "words_count_female_test_data"
   ]
  },
  {
   "cell_type": "markdown",
   "metadata": {},
   "source": [
    "##### Understanding data via graphs"
   ]
  },
  {
   "cell_type": "code",
   "execution_count": 695,
   "metadata": {},
   "outputs": [
    {
     "name": "stdout",
     "output_type": "stream",
     "text": [
      "Bar graph of Words used by a female in Test Data\n"
     ]
    },
    {
     "data": {
      "text/plain": [
       "<matplotlib.axes._subplots.AxesSubplot at 0x7fa1ad07e940>"
      ]
     },
     "execution_count": 695,
     "metadata": {},
     "output_type": "execute_result"
    },
    {
     "data": {
      "image/png": "[encoded data removed]",
      "text/plain": [
       "<Figure size 432x288 with 1 Axes>"
      ]
     },
     "metadata": {
      "needs_background": "light"
     },
     "output_type": "display_data"
    }
   ],
   "source": [
    "print('Bar graph of Words used by a female in Test Data')\n",
    "sns.barplot(x = words_count_female_test_data.keys(),\n",
    "            y =words_count_female_test_data.values)\n"
   ]
  },
  {
   "cell_type": "markdown",
   "metadata": {},
   "source": [
    "### Step 2.3: Pre-process Data"
   ]
  },
  {
   "cell_type": "code",
   "execution_count": 696,
   "metadata": {
    "scrolled": true
   },
   "outputs": [
    {
     "name": "stdout",
     "output_type": "stream",
     "text": [
      "Train dataset before pre-processing:\n"
     ]
    },
    {
     "data": {
      "text/html": [
       "<div>\n",
       "<style scoped>\n",
       "    .dataframe tbody tr th:only-of-type {\n",
       "        vertical-align: middle;\n",
       "    }\n",
       "\n",
       "    .dataframe tbody tr th {\n",
       "        vertical-align: top;\n",
       "    }\n",
       "\n",
       "    .dataframe thead th {\n",
       "        text-align: right;\n",
       "    }\n",
       "</style>\n",
       "<table border=\"1\" class=\"dataframe\">\n",
       "  <thead>\n",
       "    <tr style=\"text-align: right;\">\n",
       "      <th></th>\n",
       "      <th>comment_text</th>\n",
       "      <th>gender</th>\n",
       "    </tr>\n",
       "  </thead>\n",
       "  <tbody>\n",
       "    <tr>\n",
       "      <th>0</th>\n",
       "      <td>r u cmng or u not cmng</td>\n",
       "      <td>male</td>\n",
       "    </tr>\n",
       "    <tr>\n",
       "      <th>1</th>\n",
       "      <td>r you cmng</td>\n",
       "      <td>female</td>\n",
       "    </tr>\n",
       "    <tr>\n",
       "      <th>2</th>\n",
       "      <td>I am fine, r u fine</td>\n",
       "      <td>male</td>\n",
       "    </tr>\n",
       "    <tr>\n",
       "      <th>3</th>\n",
       "      <td>m fn and you</td>\n",
       "      <td>female</td>\n",
       "    </tr>\n",
       "    <tr>\n",
       "      <th>4</th>\n",
       "      <td>my frnd is gr8, wll dn.</td>\n",
       "      <td>male</td>\n",
       "    </tr>\n",
       "    <tr>\n",
       "      <th>5</th>\n",
       "      <td>my best friend is great</td>\n",
       "      <td>female</td>\n",
       "    </tr>\n",
       "  </tbody>\n",
       "</table>\n",
       "</div>"
      ],
      "text/plain": [
       "              comment_text  gender\n",
       "0   r u cmng or u not cmng    male\n",
       "1               r you cmng  female\n",
       "2      I am fine, r u fine    male\n",
       "3             m fn and you  female\n",
       "4  my frnd is gr8, wll dn.    male\n",
       "5  my best friend is great  female"
      ]
     },
     "execution_count": 696,
     "metadata": {},
     "output_type": "execute_result"
    }
   ],
   "source": [
    "print('Train dataset before pre-processing:')\n",
    "train_data_unprocessed = train_data.copy(deep = True)\n",
    "train_data"
   ]
  },
  {
   "cell_type": "code",
   "execution_count": 697,
   "metadata": {
    "scrolled": false
   },
   "outputs": [
    {
     "name": "stdout",
     "output_type": "stream",
     "text": [
      "Test dataset before pre-processing:\n"
     ]
    },
    {
     "data": {
      "text/html": [
       "<div>\n",
       "<style scoped>\n",
       "    .dataframe tbody tr th:only-of-type {\n",
       "        vertical-align: middle;\n",
       "    }\n",
       "\n",
       "    .dataframe tbody tr th {\n",
       "        vertical-align: top;\n",
       "    }\n",
       "\n",
       "    .dataframe thead th {\n",
       "        text-align: right;\n",
       "    }\n",
       "</style>\n",
       "<table border=\"1\" class=\"dataframe\">\n",
       "  <thead>\n",
       "    <tr style=\"text-align: right;\">\n",
       "      <th></th>\n",
       "      <th>comment_text</th>\n",
       "      <th>gender</th>\n",
       "    </tr>\n",
       "  </thead>\n",
       "  <tbody>\n",
       "    <tr>\n",
       "      <th>0</th>\n",
       "      <td>plz go out, plz out with with frnd</td>\n",
       "      <td>male</td>\n",
       "    </tr>\n",
       "    <tr>\n",
       "      <th>1</th>\n",
       "      <td>r u going to walk, r u?</td>\n",
       "      <td>female</td>\n",
       "    </tr>\n",
       "    <tr>\n",
       "      <th>2</th>\n",
       "      <td>r you find</td>\n",
       "      <td>male</td>\n",
       "    </tr>\n",
       "    <tr>\n",
       "      <th>3</th>\n",
       "      <td>are you find</td>\n",
       "      <td>female</td>\n",
       "    </tr>\n",
       "  </tbody>\n",
       "</table>\n",
       "</div>"
      ],
      "text/plain": [
       "                         comment_text  gender\n",
       "0  plz go out, plz out with with frnd    male\n",
       "1             r u going to walk, r u?  female\n",
       "2                          r you find    male\n",
       "3                        are you find  female"
      ]
     },
     "execution_count": 697,
     "metadata": {},
     "output_type": "execute_result"
    }
   ],
   "source": [
    "print('Test dataset before pre-processing:')\n",
    "test_data_unprocessed = test_data.copy(deep = True)\n",
    "test_data"
   ]
  },
  {
   "cell_type": "markdown",
   "metadata": {},
   "source": [
    "##### Convert text to lowercase\n"
   ]
  },
  {
   "cell_type": "code",
   "execution_count": 698,
   "metadata": {
    "scrolled": true
   },
   "outputs": [
    {
     "name": "stdout",
     "output_type": "stream",
     "text": [
      "train data:\n",
      "               comment_text  gender\n",
      "0   r u cmng or u not cmng    male\n",
      "1               r you cmng  female\n",
      "2      I am fine, r u fine    male\n",
      "3             m fn and you  female\n",
      "4  my frnd is gr8, wll dn.    male\n",
      "5  my best friend is great  female\n",
      "\n",
      "\n",
      "test data:\n",
      "                          comment_text  gender\n",
      "0  plz go out, plz out with with frnd    male\n",
      "1             r u going to walk, r u?  female\n",
      "2                          r you find    male\n",
      "3                        are you find  female\n"
     ]
    }
   ],
   "source": [
    "print('train data:\\n' ,train_data)\n",
    "print('\\n\\ntest data:\\n' ,test_data)\n"
   ]
  },
  {
   "cell_type": "code",
   "execution_count": 699,
   "metadata": {},
   "outputs": [],
   "source": [
    "train_data.comment_text = train_data.comment_text.str.lower()\n",
    "test_data.comment_text = test_data.comment_text.str.lower()\n"
   ]
  },
  {
   "cell_type": "code",
   "execution_count": 700,
   "metadata": {
    "scrolled": true
   },
   "outputs": [
    {
     "name": "stdout",
     "output_type": "stream",
     "text": [
      "Converted to lower case if any :\n",
      "\n",
      "\n",
      "train data:\n",
      "               comment_text  gender\n",
      "0   r u cmng or u not cmng    male\n",
      "1               r you cmng  female\n",
      "2      i am fine, r u fine    male\n",
      "3             m fn and you  female\n",
      "4  my frnd is gr8, wll dn.    male\n",
      "5  my best friend is great  female\n",
      "\n",
      "\n",
      "test data:\n",
      "                          comment_text  gender\n",
      "0  plz go out, plz out with with frnd    male\n",
      "1             r u going to walk, r u?  female\n",
      "2                          r you find    male\n",
      "3                        are you find  female\n"
     ]
    }
   ],
   "source": [
    "print('Converted to lower case if any :\\n\\n')\n",
    "print('train data:\\n' ,train_data)\n",
    "print('\\n\\ntest data:\\n' ,test_data)\n"
   ]
  },
  {
   "cell_type": "markdown",
   "metadata": {},
   "source": [
    "##### Remove numbers"
   ]
  },
  {
   "cell_type": "code",
   "execution_count": 701,
   "metadata": {},
   "outputs": [],
   "source": [
    "train_data.comment_text = train_data.comment_text.str.replace(r'\\d+','')\n",
    "test_data.comment_text = test_data.comment_text.str.replace(r'\\d+','')"
   ]
  },
  {
   "cell_type": "code",
   "execution_count": 702,
   "metadata": {},
   "outputs": [
    {
     "name": "stdout",
     "output_type": "stream",
     "text": [
      "Converted to lower case if any :\n",
      "\n",
      "\n",
      "train data:\n",
      "               comment_text  gender\n",
      "0   r u cmng or u not cmng    male\n",
      "1               r you cmng  female\n",
      "2      i am fine, r u fine    male\n",
      "3             m fn and you  female\n",
      "4   my frnd is gr, wll dn.    male\n",
      "5  my best friend is great  female\n",
      "\n",
      "\n",
      "test data:\n",
      "                          comment_text  gender\n",
      "0  plz go out, plz out with with frnd    male\n",
      "1             r u going to walk, r u?  female\n",
      "2                          r you find    male\n",
      "3                        are you find  female\n"
     ]
    }
   ],
   "source": [
    "print('Converted to lower case if any :\\n\\n')\n",
    "print('train data:\\n' ,train_data)\n",
    "print('\\n\\ntest data:\\n' ,test_data)\n"
   ]
  },
  {
   "cell_type": "markdown",
   "metadata": {},
   "source": [
    "##### Remove punctuation\n",
    "\n",
    "The following code removes this set of symbols [!”#$%&’()*+,-./:;<=>?@[\\]^_`{|}~]:"
   ]
  },
  {
   "cell_type": "code",
   "execution_count": 703,
   "metadata": {},
   "outputs": [],
   "source": [
    "train_data.comment_text = train_data.comment_text.str.replace(r'[!|”|#|$|%|&|\\'||(|)|*|+|,|-|.|/|:|;|<|=|>|?|@|[|]|^|_|`|{|||}|~|]','')\n",
    "test_data.comment_text = test_data.comment_text.str.replace(r'[!|”|#|$|%|&|\\'||(|)|*|+|,|-|.|/|:|;|<|=|>|?|@|[|]|^|_|`|{|||}|~|]','')\n"
   ]
  },
  {
   "cell_type": "code",
   "execution_count": 704,
   "metadata": {},
   "outputs": [
    {
     "name": "stdout",
     "output_type": "stream",
     "text": [
      "Removed punctuation if any :\n",
      "\n",
      "\n",
      "train data:\n",
      "               comment_text  gender\n",
      "0   r u cmng or u not cmng    male\n",
      "1               r you cmng  female\n",
      "2       i am fine r u fine    male\n",
      "3             m fn and you  female\n",
      "4     my frnd is gr wll dn    male\n",
      "5  my best friend is great  female\n",
      "\n",
      "\n",
      "test data:\n",
      "                         comment_text  gender\n",
      "0  plz go out plz out with with frnd    male\n",
      "1              r u going to walk r u  female\n",
      "2                         r you find    male\n",
      "3                       are you find  female\n"
     ]
    }
   ],
   "source": [
    "print('Removed punctuation if any :\\n\\n')\n",
    "print('train data:\\n' ,train_data)\n",
    "print('\\n\\ntest data:\\n' ,test_data)\n"
   ]
  },
  {
   "cell_type": "markdown",
   "metadata": {},
   "source": [
    "##### Remove whitespaces"
   ]
  },
  {
   "cell_type": "code",
   "execution_count": 705,
   "metadata": {},
   "outputs": [],
   "source": [
    "train_data.comment_text  = train_data.comment_text.str.strip()\n",
    "test_data.comment_text  = test_data.comment_text.str.strip()"
   ]
  },
  {
   "cell_type": "code",
   "execution_count": 706,
   "metadata": {
    "scrolled": true
   },
   "outputs": [
    {
     "name": "stdout",
     "output_type": "stream",
     "text": [
      "Removed white spaces if any :\n",
      "\n",
      "\n",
      "train data:\n",
      "               comment_text  gender\n",
      "0   r u cmng or u not cmng    male\n",
      "1               r you cmng  female\n",
      "2       i am fine r u fine    male\n",
      "3             m fn and you  female\n",
      "4     my frnd is gr wll dn    male\n",
      "5  my best friend is great  female\n",
      "\n",
      "\n",
      "test data:\n",
      "                         comment_text  gender\n",
      "0  plz go out plz out with with frnd    male\n",
      "1              r u going to walk r u  female\n",
      "2                         r you find    male\n",
      "3                       are you find  female\n"
     ]
    }
   ],
   "source": [
    "print('Removed white spaces if any :\\n\\n')\n",
    "print('train data:\\n' ,train_data)\n",
    "print('\\n\\ntest data:\\n' ,test_data)\n"
   ]
  },
  {
   "cell_type": "code",
   "execution_count": 707,
   "metadata": {
    "scrolled": false
   },
   "outputs": [
    {
     "data": {
      "text/html": [
       "<style  type=\"text/css\" >\n",
       "</style>  \n",
       "<table id=\"T_f0e2ec86_f09c_11e8_bf99_317d27321ca6\" style='display:inline'><caption>Train dataset before pre-processing:</caption> \n",
       "<thead>    <tr> \n",
       "        <th class=\"blank level0\" ></th> \n",
       "        <th class=\"col_heading level0 col0\" >comment_text</th> \n",
       "        <th class=\"col_heading level0 col1\" >gender</th> \n",
       "    </tr></thead> \n",
       "<tbody>    <tr> \n",
       "        <th id=\"T_f0e2ec86_f09c_11e8_bf99_317d27321ca6level0_row0\" class=\"row_heading level0 row0\" >0</th> \n",
       "        <td id=\"T_f0e2ec86_f09c_11e8_bf99_317d27321ca6row0_col0\" class=\"data row0 col0\" >r u cmng or u not cmng</td> \n",
       "        <td id=\"T_f0e2ec86_f09c_11e8_bf99_317d27321ca6row0_col1\" class=\"data row0 col1\" >male</td> \n",
       "    </tr>    <tr> \n",
       "        <th id=\"T_f0e2ec86_f09c_11e8_bf99_317d27321ca6level0_row1\" class=\"row_heading level0 row1\" >1</th> \n",
       "        <td id=\"T_f0e2ec86_f09c_11e8_bf99_317d27321ca6row1_col0\" class=\"data row1 col0\" >r you cmng</td> \n",
       "        <td id=\"T_f0e2ec86_f09c_11e8_bf99_317d27321ca6row1_col1\" class=\"data row1 col1\" >female</td> \n",
       "    </tr>    <tr> \n",
       "        <th id=\"T_f0e2ec86_f09c_11e8_bf99_317d27321ca6level0_row2\" class=\"row_heading level0 row2\" >2</th> \n",
       "        <td id=\"T_f0e2ec86_f09c_11e8_bf99_317d27321ca6row2_col0\" class=\"data row2 col0\" >I am fine, r u fine</td> \n",
       "        <td id=\"T_f0e2ec86_f09c_11e8_bf99_317d27321ca6row2_col1\" class=\"data row2 col1\" >male</td> \n",
       "    </tr>    <tr> \n",
       "        <th id=\"T_f0e2ec86_f09c_11e8_bf99_317d27321ca6level0_row3\" class=\"row_heading level0 row3\" >3</th> \n",
       "        <td id=\"T_f0e2ec86_f09c_11e8_bf99_317d27321ca6row3_col0\" class=\"data row3 col0\" >m fn and you</td> \n",
       "        <td id=\"T_f0e2ec86_f09c_11e8_bf99_317d27321ca6row3_col1\" class=\"data row3 col1\" >female</td> \n",
       "    </tr>    <tr> \n",
       "        <th id=\"T_f0e2ec86_f09c_11e8_bf99_317d27321ca6level0_row4\" class=\"row_heading level0 row4\" >4</th> \n",
       "        <td id=\"T_f0e2ec86_f09c_11e8_bf99_317d27321ca6row4_col0\" class=\"data row4 col0\" >my frnd is gr8, wll dn.</td> \n",
       "        <td id=\"T_f0e2ec86_f09c_11e8_bf99_317d27321ca6row4_col1\" class=\"data row4 col1\" >male</td> \n",
       "    </tr>    <tr> \n",
       "        <th id=\"T_f0e2ec86_f09c_11e8_bf99_317d27321ca6level0_row5\" class=\"row_heading level0 row5\" >5</th> \n",
       "        <td id=\"T_f0e2ec86_f09c_11e8_bf99_317d27321ca6row5_col0\" class=\"data row5 col0\" >my best friend is great</td> \n",
       "        <td id=\"T_f0e2ec86_f09c_11e8_bf99_317d27321ca6row5_col1\" class=\"data row5 col1\" >female</td> \n",
       "    </tr></tbody> \n",
       "</table> <style  type=\"text/css\" >\n",
       "</style>  \n",
       "<table id=\"T_f0e323a4_f09c_11e8_bf99_317d27321ca6\" style='display:inline'><caption>Train dataset after pre-processing:</caption> \n",
       "<thead>    <tr> \n",
       "        <th class=\"blank level0\" ></th> \n",
       "        <th class=\"col_heading level0 col0\" >comment_text</th> \n",
       "        <th class=\"col_heading level0 col1\" >gender</th> \n",
       "    </tr></thead> \n",
       "<tbody>    <tr> \n",
       "        <th id=\"T_f0e323a4_f09c_11e8_bf99_317d27321ca6level0_row0\" class=\"row_heading level0 row0\" >0</th> \n",
       "        <td id=\"T_f0e323a4_f09c_11e8_bf99_317d27321ca6row0_col0\" class=\"data row0 col0\" >r u cmng or u not cmng</td> \n",
       "        <td id=\"T_f0e323a4_f09c_11e8_bf99_317d27321ca6row0_col1\" class=\"data row0 col1\" >male</td> \n",
       "    </tr>    <tr> \n",
       "        <th id=\"T_f0e323a4_f09c_11e8_bf99_317d27321ca6level0_row1\" class=\"row_heading level0 row1\" >1</th> \n",
       "        <td id=\"T_f0e323a4_f09c_11e8_bf99_317d27321ca6row1_col0\" class=\"data row1 col0\" >r you cmng</td> \n",
       "        <td id=\"T_f0e323a4_f09c_11e8_bf99_317d27321ca6row1_col1\" class=\"data row1 col1\" >female</td> \n",
       "    </tr>    <tr> \n",
       "        <th id=\"T_f0e323a4_f09c_11e8_bf99_317d27321ca6level0_row2\" class=\"row_heading level0 row2\" >2</th> \n",
       "        <td id=\"T_f0e323a4_f09c_11e8_bf99_317d27321ca6row2_col0\" class=\"data row2 col0\" >i am fine r u fine</td> \n",
       "        <td id=\"T_f0e323a4_f09c_11e8_bf99_317d27321ca6row2_col1\" class=\"data row2 col1\" >male</td> \n",
       "    </tr>    <tr> \n",
       "        <th id=\"T_f0e323a4_f09c_11e8_bf99_317d27321ca6level0_row3\" class=\"row_heading level0 row3\" >3</th> \n",
       "        <td id=\"T_f0e323a4_f09c_11e8_bf99_317d27321ca6row3_col0\" class=\"data row3 col0\" >m fn and you</td> \n",
       "        <td id=\"T_f0e323a4_f09c_11e8_bf99_317d27321ca6row3_col1\" class=\"data row3 col1\" >female</td> \n",
       "    </tr>    <tr> \n",
       "        <th id=\"T_f0e323a4_f09c_11e8_bf99_317d27321ca6level0_row4\" class=\"row_heading level0 row4\" >4</th> \n",
       "        <td id=\"T_f0e323a4_f09c_11e8_bf99_317d27321ca6row4_col0\" class=\"data row4 col0\" >my frnd is gr wll dn</td> \n",
       "        <td id=\"T_f0e323a4_f09c_11e8_bf99_317d27321ca6row4_col1\" class=\"data row4 col1\" >male</td> \n",
       "    </tr>    <tr> \n",
       "        <th id=\"T_f0e323a4_f09c_11e8_bf99_317d27321ca6level0_row5\" class=\"row_heading level0 row5\" >5</th> \n",
       "        <td id=\"T_f0e323a4_f09c_11e8_bf99_317d27321ca6row5_col0\" class=\"data row5 col0\" >my best friend is great</td> \n",
       "        <td id=\"T_f0e323a4_f09c_11e8_bf99_317d27321ca6row5_col1\" class=\"data row5 col1\" >female</td> \n",
       "    </tr></tbody> \n",
       "</table> "
      ]
     },
     "metadata": {},
     "output_type": "display_data"
    }
   ],
   "source": [
    "from IPython.display import display_html \n",
    "\n",
    "df1_styler = train_data_unprocessed.style.set_table_attributes(\"style='display:inline'\").set_caption('Train dataset before pre-processing:')\n",
    "df2_styler = train_data.style.set_table_attributes(\"style='display:inline'\").set_caption('Train dataset after pre-processing:')\n",
    "\n",
    "display_html(df1_styler._repr_html_()+df2_styler._repr_html_(), raw=True)"
   ]
  },
  {
   "cell_type": "code",
   "execution_count": 708,
   "metadata": {},
   "outputs": [
    {
     "data": {
      "text/html": [
       "<style  type=\"text/css\" >\n",
       "</style>  \n",
       "<table id=\"T_f10d5674_f09c_11e8_bf99_317d27321ca6\" style='display:inline'><caption>Test dataset before pre-processing:</caption> \n",
       "<thead>    <tr> \n",
       "        <th class=\"blank level0\" ></th> \n",
       "        <th class=\"col_heading level0 col0\" >comment_text</th> \n",
       "        <th class=\"col_heading level0 col1\" >gender</th> \n",
       "    </tr></thead> \n",
       "<tbody>    <tr> \n",
       "        <th id=\"T_f10d5674_f09c_11e8_bf99_317d27321ca6level0_row0\" class=\"row_heading level0 row0\" >0</th> \n",
       "        <td id=\"T_f10d5674_f09c_11e8_bf99_317d27321ca6row0_col0\" class=\"data row0 col0\" >plz go out, plz out with with frnd</td> \n",
       "        <td id=\"T_f10d5674_f09c_11e8_bf99_317d27321ca6row0_col1\" class=\"data row0 col1\" >male</td> \n",
       "    </tr>    <tr> \n",
       "        <th id=\"T_f10d5674_f09c_11e8_bf99_317d27321ca6level0_row1\" class=\"row_heading level0 row1\" >1</th> \n",
       "        <td id=\"T_f10d5674_f09c_11e8_bf99_317d27321ca6row1_col0\" class=\"data row1 col0\" >r u going to walk, r u?</td> \n",
       "        <td id=\"T_f10d5674_f09c_11e8_bf99_317d27321ca6row1_col1\" class=\"data row1 col1\" >female</td> \n",
       "    </tr>    <tr> \n",
       "        <th id=\"T_f10d5674_f09c_11e8_bf99_317d27321ca6level0_row2\" class=\"row_heading level0 row2\" >2</th> \n",
       "        <td id=\"T_f10d5674_f09c_11e8_bf99_317d27321ca6row2_col0\" class=\"data row2 col0\" >r you find</td> \n",
       "        <td id=\"T_f10d5674_f09c_11e8_bf99_317d27321ca6row2_col1\" class=\"data row2 col1\" >male</td> \n",
       "    </tr>    <tr> \n",
       "        <th id=\"T_f10d5674_f09c_11e8_bf99_317d27321ca6level0_row3\" class=\"row_heading level0 row3\" >3</th> \n",
       "        <td id=\"T_f10d5674_f09c_11e8_bf99_317d27321ca6row3_col0\" class=\"data row3 col0\" >are you find</td> \n",
       "        <td id=\"T_f10d5674_f09c_11e8_bf99_317d27321ca6row3_col1\" class=\"data row3 col1\" >female</td> \n",
       "    </tr></tbody> \n",
       "</table> <style  type=\"text/css\" >\n",
       "</style>  \n",
       "<table id=\"T_f10d8568_f09c_11e8_bf99_317d27321ca6\" style='display:inline'><caption>Test dataset after pre-processing:</caption> \n",
       "<thead>    <tr> \n",
       "        <th class=\"blank level0\" ></th> \n",
       "        <th class=\"col_heading level0 col0\" >comment_text</th> \n",
       "        <th class=\"col_heading level0 col1\" >gender</th> \n",
       "    </tr></thead> \n",
       "<tbody>    <tr> \n",
       "        <th id=\"T_f10d8568_f09c_11e8_bf99_317d27321ca6level0_row0\" class=\"row_heading level0 row0\" >0</th> \n",
       "        <td id=\"T_f10d8568_f09c_11e8_bf99_317d27321ca6row0_col0\" class=\"data row0 col0\" >plz go out plz out with with frnd</td> \n",
       "        <td id=\"T_f10d8568_f09c_11e8_bf99_317d27321ca6row0_col1\" class=\"data row0 col1\" >male</td> \n",
       "    </tr>    <tr> \n",
       "        <th id=\"T_f10d8568_f09c_11e8_bf99_317d27321ca6level0_row1\" class=\"row_heading level0 row1\" >1</th> \n",
       "        <td id=\"T_f10d8568_f09c_11e8_bf99_317d27321ca6row1_col0\" class=\"data row1 col0\" >r u going to walk r u</td> \n",
       "        <td id=\"T_f10d8568_f09c_11e8_bf99_317d27321ca6row1_col1\" class=\"data row1 col1\" >female</td> \n",
       "    </tr>    <tr> \n",
       "        <th id=\"T_f10d8568_f09c_11e8_bf99_317d27321ca6level0_row2\" class=\"row_heading level0 row2\" >2</th> \n",
       "        <td id=\"T_f10d8568_f09c_11e8_bf99_317d27321ca6row2_col0\" class=\"data row2 col0\" >r you find</td> \n",
       "        <td id=\"T_f10d8568_f09c_11e8_bf99_317d27321ca6row2_col1\" class=\"data row2 col1\" >male</td> \n",
       "    </tr>    <tr> \n",
       "        <th id=\"T_f10d8568_f09c_11e8_bf99_317d27321ca6level0_row3\" class=\"row_heading level0 row3\" >3</th> \n",
       "        <td id=\"T_f10d8568_f09c_11e8_bf99_317d27321ca6row3_col0\" class=\"data row3 col0\" >are you find</td> \n",
       "        <td id=\"T_f10d8568_f09c_11e8_bf99_317d27321ca6row3_col1\" class=\"data row3 col1\" >female</td> \n",
       "    </tr></tbody> \n",
       "</table> "
      ]
     },
     "metadata": {},
     "output_type": "display_data"
    }
   ],
   "source": [
    "df1_styler = test_data_unprocessed.style.set_table_attributes(\"style='display:inline'\").set_caption('Test dataset before pre-processing:')\n",
    "df2_styler = test_data.style.set_table_attributes(\"style='display:inline'\").set_caption('Test dataset after pre-processing:')\n",
    "\n",
    "display_html(df1_styler._repr_html_()+df2_styler._repr_html_(), raw=True)"
   ]
  },
  {
   "cell_type": "markdown",
   "metadata": {},
   "source": [
    "## Step 3: Label Encoding for Train/Test Data"
   ]
  },
  {
   "cell_type": "code",
   "execution_count": 709,
   "metadata": {},
   "outputs": [],
   "source": [
    "def encodegender(data):\n",
    "    return data.gender.map({'female':0,'male':1}).astype(int)"
   ]
  },
  {
   "cell_type": "code",
   "execution_count": 710,
   "metadata": {},
   "outputs": [],
   "source": [
    "def decodegender(data):\n",
    "    return data.map({0:'female',1:'male'})"
   ]
  },
  {
   "cell_type": "code",
   "execution_count": 712,
   "metadata": {},
   "outputs": [
    {
     "name": "stdout",
     "output_type": "stream",
     "text": [
      "Train Dataset Labels Encoding:\n"
     ]
    },
    {
     "data": {
      "text/html": [
       "<div>\n",
       "<style scoped>\n",
       "    .dataframe tbody tr th:only-of-type {\n",
       "        vertical-align: middle;\n",
       "    }\n",
       "\n",
       "    .dataframe tbody tr th {\n",
       "        vertical-align: top;\n",
       "    }\n",
       "\n",
       "    .dataframe thead th {\n",
       "        text-align: right;\n",
       "    }\n",
       "</style>\n",
       "<table border=\"1\" class=\"dataframe\">\n",
       "  <thead>\n",
       "    <tr style=\"text-align: right;\">\n",
       "      <th></th>\n",
       "      <th>comment_text</th>\n",
       "      <th>gender</th>\n",
       "      <th>encoded_gender</th>\n",
       "    </tr>\n",
       "  </thead>\n",
       "  <tbody>\n",
       "    <tr>\n",
       "      <th>0</th>\n",
       "      <td>r u cmng or u not cmng</td>\n",
       "      <td>male</td>\n",
       "      <td>1</td>\n",
       "    </tr>\n",
       "    <tr>\n",
       "      <th>1</th>\n",
       "      <td>r you cmng</td>\n",
       "      <td>female</td>\n",
       "      <td>0</td>\n",
       "    </tr>\n",
       "    <tr>\n",
       "      <th>2</th>\n",
       "      <td>i am fine r u fine</td>\n",
       "      <td>male</td>\n",
       "      <td>1</td>\n",
       "    </tr>\n",
       "    <tr>\n",
       "      <th>3</th>\n",
       "      <td>m fn and you</td>\n",
       "      <td>female</td>\n",
       "      <td>0</td>\n",
       "    </tr>\n",
       "    <tr>\n",
       "      <th>4</th>\n",
       "      <td>my frnd is gr wll dn</td>\n",
       "      <td>male</td>\n",
       "      <td>1</td>\n",
       "    </tr>\n",
       "    <tr>\n",
       "      <th>5</th>\n",
       "      <td>my best friend is great</td>\n",
       "      <td>female</td>\n",
       "      <td>0</td>\n",
       "    </tr>\n",
       "  </tbody>\n",
       "</table>\n",
       "</div>"
      ],
      "text/plain": [
       "              comment_text  gender  encoded_gender\n",
       "0   r u cmng or u not cmng    male               1\n",
       "1               r you cmng  female               0\n",
       "2       i am fine r u fine    male               1\n",
       "3             m fn and you  female               0\n",
       "4     my frnd is gr wll dn    male               1\n",
       "5  my best friend is great  female               0"
      ]
     },
     "execution_count": 712,
     "metadata": {},
     "output_type": "execute_result"
    }
   ],
   "source": [
    "df = train_data.copy(deep=False)\n",
    "df['encoded_gender'] = encodegender(train_data)\n",
    "print('Train Dataset Labels Encoding:')\n",
    "df"
   ]
  },
  {
   "cell_type": "code",
   "execution_count": 713,
   "metadata": {},
   "outputs": [
    {
     "name": "stdout",
     "output_type": "stream",
     "text": [
      "Test Dataset Labels Encoding:\n"
     ]
    },
    {
     "data": {
      "text/html": [
       "<div>\n",
       "<style scoped>\n",
       "    .dataframe tbody tr th:only-of-type {\n",
       "        vertical-align: middle;\n",
       "    }\n",
       "\n",
       "    .dataframe tbody tr th {\n",
       "        vertical-align: top;\n",
       "    }\n",
       "\n",
       "    .dataframe thead th {\n",
       "        text-align: right;\n",
       "    }\n",
       "</style>\n",
       "<table border=\"1\" class=\"dataframe\">\n",
       "  <thead>\n",
       "    <tr style=\"text-align: right;\">\n",
       "      <th></th>\n",
       "      <th>comment_text</th>\n",
       "      <th>gender</th>\n",
       "      <th>encoded_gender</th>\n",
       "    </tr>\n",
       "  </thead>\n",
       "  <tbody>\n",
       "    <tr>\n",
       "      <th>0</th>\n",
       "      <td>plz go out plz out with with frnd</td>\n",
       "      <td>male</td>\n",
       "      <td>1</td>\n",
       "    </tr>\n",
       "    <tr>\n",
       "      <th>1</th>\n",
       "      <td>r u going to walk r u</td>\n",
       "      <td>female</td>\n",
       "      <td>0</td>\n",
       "    </tr>\n",
       "    <tr>\n",
       "      <th>2</th>\n",
       "      <td>r you find</td>\n",
       "      <td>male</td>\n",
       "      <td>1</td>\n",
       "    </tr>\n",
       "    <tr>\n",
       "      <th>3</th>\n",
       "      <td>are you find</td>\n",
       "      <td>female</td>\n",
       "      <td>0</td>\n",
       "    </tr>\n",
       "  </tbody>\n",
       "</table>\n",
       "</div>"
      ],
      "text/plain": [
       "                        comment_text  gender  encoded_gender\n",
       "0  plz go out plz out with with frnd    male               1\n",
       "1              r u going to walk r u  female               0\n",
       "2                         r you find    male               1\n",
       "3                       are you find  female               0"
      ]
     },
     "execution_count": 713,
     "metadata": {},
     "output_type": "execute_result"
    }
   ],
   "source": [
    "df = test_data.copy(deep=False)\n",
    "df['encoded_gender'] = encodegender(test_data)\n",
    "print('Test Dataset Labels Encoding:')\n",
    "df"
   ]
  },
  {
   "cell_type": "code",
   "execution_count": 714,
   "metadata": {},
   "outputs": [],
   "source": [
    "train_data.gender = encodegender(train_data)"
   ]
  },
  {
   "cell_type": "code",
   "execution_count": 715,
   "metadata": {
    "scrolled": true
   },
   "outputs": [
    {
     "name": "stdout",
     "output_type": "stream",
     "text": [
      "Label Encoded Train data:\n"
     ]
    },
    {
     "data": {
      "text/html": [
       "<div>\n",
       "<style scoped>\n",
       "    .dataframe tbody tr th:only-of-type {\n",
       "        vertical-align: middle;\n",
       "    }\n",
       "\n",
       "    .dataframe tbody tr th {\n",
       "        vertical-align: top;\n",
       "    }\n",
       "\n",
       "    .dataframe thead th {\n",
       "        text-align: right;\n",
       "    }\n",
       "</style>\n",
       "<table border=\"1\" class=\"dataframe\">\n",
       "  <thead>\n",
       "    <tr style=\"text-align: right;\">\n",
       "      <th></th>\n",
       "      <th>comment_text</th>\n",
       "      <th>gender</th>\n",
       "    </tr>\n",
       "  </thead>\n",
       "  <tbody>\n",
       "    <tr>\n",
       "      <th>0</th>\n",
       "      <td>r u cmng or u not cmng</td>\n",
       "      <td>1</td>\n",
       "    </tr>\n",
       "    <tr>\n",
       "      <th>1</th>\n",
       "      <td>r you cmng</td>\n",
       "      <td>0</td>\n",
       "    </tr>\n",
       "    <tr>\n",
       "      <th>2</th>\n",
       "      <td>i am fine r u fine</td>\n",
       "      <td>1</td>\n",
       "    </tr>\n",
       "    <tr>\n",
       "      <th>3</th>\n",
       "      <td>m fn and you</td>\n",
       "      <td>0</td>\n",
       "    </tr>\n",
       "    <tr>\n",
       "      <th>4</th>\n",
       "      <td>my frnd is gr wll dn</td>\n",
       "      <td>1</td>\n",
       "    </tr>\n",
       "    <tr>\n",
       "      <th>5</th>\n",
       "      <td>my best friend is great</td>\n",
       "      <td>0</td>\n",
       "    </tr>\n",
       "  </tbody>\n",
       "</table>\n",
       "</div>"
      ],
      "text/plain": [
       "              comment_text  gender\n",
       "0   r u cmng or u not cmng       1\n",
       "1               r you cmng       0\n",
       "2       i am fine r u fine       1\n",
       "3             m fn and you       0\n",
       "4     my frnd is gr wll dn       1\n",
       "5  my best friend is great       0"
      ]
     },
     "execution_count": 715,
     "metadata": {},
     "output_type": "execute_result"
    }
   ],
   "source": [
    "print('Label Encoded Train data:')\n",
    "train_data"
   ]
  },
  {
   "cell_type": "code",
   "execution_count": 716,
   "metadata": {},
   "outputs": [
    {
     "name": "stdout",
     "output_type": "stream",
     "text": [
      "Label Encoded Test data:\n"
     ]
    },
    {
     "data": {
      "text/html": [
       "<div>\n",
       "<style scoped>\n",
       "    .dataframe tbody tr th:only-of-type {\n",
       "        vertical-align: middle;\n",
       "    }\n",
       "\n",
       "    .dataframe tbody tr th {\n",
       "        vertical-align: top;\n",
       "    }\n",
       "\n",
       "    .dataframe thead th {\n",
       "        text-align: right;\n",
       "    }\n",
       "</style>\n",
       "<table border=\"1\" class=\"dataframe\">\n",
       "  <thead>\n",
       "    <tr style=\"text-align: right;\">\n",
       "      <th></th>\n",
       "      <th>comment_text</th>\n",
       "      <th>gender</th>\n",
       "    </tr>\n",
       "  </thead>\n",
       "  <tbody>\n",
       "    <tr>\n",
       "      <th>0</th>\n",
       "      <td>plz go out plz out with with frnd</td>\n",
       "      <td>1</td>\n",
       "    </tr>\n",
       "    <tr>\n",
       "      <th>1</th>\n",
       "      <td>r u going to walk r u</td>\n",
       "      <td>0</td>\n",
       "    </tr>\n",
       "    <tr>\n",
       "      <th>2</th>\n",
       "      <td>r you find</td>\n",
       "      <td>1</td>\n",
       "    </tr>\n",
       "    <tr>\n",
       "      <th>3</th>\n",
       "      <td>are you find</td>\n",
       "      <td>0</td>\n",
       "    </tr>\n",
       "  </tbody>\n",
       "</table>\n",
       "</div>"
      ],
      "text/plain": [
       "                        comment_text  gender\n",
       "0  plz go out plz out with with frnd       1\n",
       "1              r u going to walk r u       0\n",
       "2                         r you find       1\n",
       "3                       are you find       0"
      ]
     },
     "execution_count": 716,
     "metadata": {},
     "output_type": "execute_result"
    }
   ],
   "source": [
    "test_data.gender = encodegender(test_data)\n",
    "print('Label Encoded Test data:')\n",
    "test_data"
   ]
  },
  {
   "cell_type": "markdown",
   "metadata": {},
   "source": [
    "## Step 4: Feature Extraction – Changing Representation of Data “from String to Vector”"
   ]
  },
  {
   "cell_type": "markdown",
   "metadata": {},
   "source": [
    " **vect = CountVectorizer(\n",
    "strip_accents='unicode',\n",
    "analyzer='word',\n",
    "token_pattern=r'\\w{1,}',\n",
    "stop_words='english',\n",
    "ngram_range=(1, 1),\n",
    "max_features=10)**\n",
    "\n",
    "**print(\"Parameters of TfidfVectorizer and its values:\\n\\n\")**\n",
    "\n",
    "**print(vect)**"
   ]
  },
  {
   "cell_type": "code",
   "execution_count": 717,
   "metadata": {
    "scrolled": false
   },
   "outputs": [
    {
     "name": "stdout",
     "output_type": "stream",
     "text": [
      "Parameters of TfidfVectorizer and its values:\n",
      "\n",
      "\n",
      "CountVectorizer(analyzer='word', binary=False, decode_error='strict',\n",
      "        dtype=<class 'numpy.int64'>, encoding='utf-8', input='content',\n",
      "        lowercase=True, max_df=1.0, max_features=10, min_df=1,\n",
      "        ngram_range=(1, 1), preprocessor=None, stop_words='english',\n",
      "        strip_accents='unicode', token_pattern='\\\\w{1,}', tokenizer=None,\n",
      "        vocabulary=None)\n"
     ]
    }
   ],
   "source": [
    "vect = CountVectorizer( strip_accents='unicode',\n",
    "                       analyzer='word',\n",
    "                       token_pattern=r'\\w{1,}',\n",
    "                       stop_words='english',\n",
    "                       ngram_range=(1, 1), max_features=10) \n",
    "print(\"Parameters of TfidfVectorizer and its values:\\n\\n\")\n",
    "print(vect)"
   ]
  },
  {
   "cell_type": "code",
   "execution_count": 718,
   "metadata": {},
   "outputs": [],
   "source": [
    "X = vect.fit_transform(train_data.comment_text)"
   ]
  },
  {
   "cell_type": "code",
   "execution_count": 719,
   "metadata": {
    "scrolled": false
   },
   "outputs": [
    {
     "name": "stdout",
     "output_type": "stream",
     "text": [
      "Train Features Before Assigning a 'gender' Column:\n"
     ]
    },
    {
     "data": {
      "text/html": [
       "<div>\n",
       "<style scoped>\n",
       "    .dataframe tbody tr th:only-of-type {\n",
       "        vertical-align: middle;\n",
       "    }\n",
       "\n",
       "    .dataframe tbody tr th {\n",
       "        vertical-align: top;\n",
       "    }\n",
       "\n",
       "    .dataframe thead th {\n",
       "        text-align: right;\n",
       "    }\n",
       "</style>\n",
       "<table border=\"1\" class=\"dataframe\">\n",
       "  <thead>\n",
       "    <tr style=\"text-align: right;\">\n",
       "      <th></th>\n",
       "      <th>best</th>\n",
       "      <th>cmng</th>\n",
       "      <th>dn</th>\n",
       "      <th>fine</th>\n",
       "      <th>fn</th>\n",
       "      <th>friend</th>\n",
       "      <th>frnd</th>\n",
       "      <th>gr</th>\n",
       "      <th>r</th>\n",
       "      <th>u</th>\n",
       "    </tr>\n",
       "  </thead>\n",
       "  <tbody>\n",
       "    <tr>\n",
       "      <th>0</th>\n",
       "      <td>0</td>\n",
       "      <td>2</td>\n",
       "      <td>0</td>\n",
       "      <td>0</td>\n",
       "      <td>0</td>\n",
       "      <td>0</td>\n",
       "      <td>0</td>\n",
       "      <td>0</td>\n",
       "      <td>1</td>\n",
       "      <td>2</td>\n",
       "    </tr>\n",
       "    <tr>\n",
       "      <th>1</th>\n",
       "      <td>0</td>\n",
       "      <td>1</td>\n",
       "      <td>0</td>\n",
       "      <td>0</td>\n",
       "      <td>0</td>\n",
       "      <td>0</td>\n",
       "      <td>0</td>\n",
       "      <td>0</td>\n",
       "      <td>1</td>\n",
       "      <td>0</td>\n",
       "    </tr>\n",
       "    <tr>\n",
       "      <th>2</th>\n",
       "      <td>0</td>\n",
       "      <td>0</td>\n",
       "      <td>0</td>\n",
       "      <td>2</td>\n",
       "      <td>0</td>\n",
       "      <td>0</td>\n",
       "      <td>0</td>\n",
       "      <td>0</td>\n",
       "      <td>1</td>\n",
       "      <td>1</td>\n",
       "    </tr>\n",
       "    <tr>\n",
       "      <th>3</th>\n",
       "      <td>0</td>\n",
       "      <td>0</td>\n",
       "      <td>0</td>\n",
       "      <td>0</td>\n",
       "      <td>1</td>\n",
       "      <td>0</td>\n",
       "      <td>0</td>\n",
       "      <td>0</td>\n",
       "      <td>0</td>\n",
       "      <td>0</td>\n",
       "    </tr>\n",
       "    <tr>\n",
       "      <th>4</th>\n",
       "      <td>0</td>\n",
       "      <td>0</td>\n",
       "      <td>1</td>\n",
       "      <td>0</td>\n",
       "      <td>0</td>\n",
       "      <td>0</td>\n",
       "      <td>1</td>\n",
       "      <td>1</td>\n",
       "      <td>0</td>\n",
       "      <td>0</td>\n",
       "    </tr>\n",
       "    <tr>\n",
       "      <th>5</th>\n",
       "      <td>1</td>\n",
       "      <td>0</td>\n",
       "      <td>0</td>\n",
       "      <td>0</td>\n",
       "      <td>0</td>\n",
       "      <td>1</td>\n",
       "      <td>0</td>\n",
       "      <td>0</td>\n",
       "      <td>0</td>\n",
       "      <td>0</td>\n",
       "    </tr>\n",
       "  </tbody>\n",
       "</table>\n",
       "</div>"
      ],
      "text/plain": [
       "   best  cmng  dn  fine  fn  friend  frnd  gr  r  u\n",
       "0     0     2   0     0   0       0     0   0  1  2\n",
       "1     0     1   0     0   0       0     0   0  1  0\n",
       "2     0     0   0     2   0       0     0   0  1  1\n",
       "3     0     0   0     0   1       0     0   0  0  0\n",
       "4     0     0   1     0   0       0     1   1  0  0\n",
       "5     1     0   0     0   0       1     0   0  0  0"
      ]
     },
     "execution_count": 719,
     "metadata": {},
     "output_type": "execute_result"
    }
   ],
   "source": [
    "vect.get_feature_names()\n",
    "train_vect = pd.DataFrame(X.toarray(),columns = vect.get_feature_names())\n",
    "print('Train Features Before Assigning a \\'gender\\' Column:')\n",
    "train_vect"
   ]
  },
  {
   "cell_type": "code",
   "execution_count": 720,
   "metadata": {},
   "outputs": [],
   "source": [
    "y = vect.transform(test_data.comment_text)"
   ]
  },
  {
   "cell_type": "code",
   "execution_count": 721,
   "metadata": {
    "scrolled": true
   },
   "outputs": [
    {
     "name": "stdout",
     "output_type": "stream",
     "text": [
      "Test Features Before Assigning a 'gender' Column:\n"
     ]
    },
    {
     "data": {
      "text/html": [
       "<div>\n",
       "<style scoped>\n",
       "    .dataframe tbody tr th:only-of-type {\n",
       "        vertical-align: middle;\n",
       "    }\n",
       "\n",
       "    .dataframe tbody tr th {\n",
       "        vertical-align: top;\n",
       "    }\n",
       "\n",
       "    .dataframe thead th {\n",
       "        text-align: right;\n",
       "    }\n",
       "</style>\n",
       "<table border=\"1\" class=\"dataframe\">\n",
       "  <thead>\n",
       "    <tr style=\"text-align: right;\">\n",
       "      <th></th>\n",
       "      <th>best</th>\n",
       "      <th>cmng</th>\n",
       "      <th>dn</th>\n",
       "      <th>fine</th>\n",
       "      <th>fn</th>\n",
       "      <th>friend</th>\n",
       "      <th>frnd</th>\n",
       "      <th>gr</th>\n",
       "      <th>r</th>\n",
       "      <th>u</th>\n",
       "    </tr>\n",
       "  </thead>\n",
       "  <tbody>\n",
       "    <tr>\n",
       "      <th>0</th>\n",
       "      <td>0</td>\n",
       "      <td>0</td>\n",
       "      <td>0</td>\n",
       "      <td>0</td>\n",
       "      <td>0</td>\n",
       "      <td>0</td>\n",
       "      <td>1</td>\n",
       "      <td>0</td>\n",
       "      <td>0</td>\n",
       "      <td>0</td>\n",
       "    </tr>\n",
       "    <tr>\n",
       "      <th>1</th>\n",
       "      <td>0</td>\n",
       "      <td>0</td>\n",
       "      <td>0</td>\n",
       "      <td>0</td>\n",
       "      <td>0</td>\n",
       "      <td>0</td>\n",
       "      <td>0</td>\n",
       "      <td>0</td>\n",
       "      <td>2</td>\n",
       "      <td>2</td>\n",
       "    </tr>\n",
       "    <tr>\n",
       "      <th>2</th>\n",
       "      <td>0</td>\n",
       "      <td>0</td>\n",
       "      <td>0</td>\n",
       "      <td>0</td>\n",
       "      <td>0</td>\n",
       "      <td>0</td>\n",
       "      <td>0</td>\n",
       "      <td>0</td>\n",
       "      <td>1</td>\n",
       "      <td>0</td>\n",
       "    </tr>\n",
       "    <tr>\n",
       "      <th>3</th>\n",
       "      <td>0</td>\n",
       "      <td>0</td>\n",
       "      <td>0</td>\n",
       "      <td>0</td>\n",
       "      <td>0</td>\n",
       "      <td>0</td>\n",
       "      <td>0</td>\n",
       "      <td>0</td>\n",
       "      <td>0</td>\n",
       "      <td>0</td>\n",
       "    </tr>\n",
       "  </tbody>\n",
       "</table>\n",
       "</div>"
      ],
      "text/plain": [
       "   best  cmng  dn  fine  fn  friend  frnd  gr  r  u\n",
       "0     0     0   0     0   0       0     1   0  0  0\n",
       "1     0     0   0     0   0       0     0   0  2  2\n",
       "2     0     0   0     0   0       0     0   0  1  0\n",
       "3     0     0   0     0   0       0     0   0  0  0"
      ]
     },
     "execution_count": 721,
     "metadata": {},
     "output_type": "execute_result"
    }
   ],
   "source": [
    "test_vect = pd.DataFrame(y.toarray(),columns = vect.get_feature_names())\n",
    "print('Test Features Before Assigning a \\'gender\\' Column:')\n",
    "\n",
    "test_vect"
   ]
  },
  {
   "cell_type": "code",
   "execution_count": 722,
   "metadata": {
    "scrolled": true
   },
   "outputs": [
    {
     "name": "stdout",
     "output_type": "stream",
     "text": [
      "Check shape of the Features:\n",
      "Train Features Shape  (6, 10)\n",
      "Test  Features Shape  (4, 10)\n"
     ]
    }
   ],
   "source": [
    "print('Check shape of the Features:')\n",
    "print(\"Train Features Shape \" ,train_vect.shape)\n",
    "print(\"Test  Features Shape \",test_vect.shape)"
   ]
  },
  {
   "cell_type": "code",
   "execution_count": 723,
   "metadata": {},
   "outputs": [
    {
     "name": "stdout",
     "output_type": "stream",
     "text": [
      "Train Features after Assigning a 'gender' Column:\n"
     ]
    },
    {
     "data": {
      "text/html": [
       "<div>\n",
       "<style scoped>\n",
       "    .dataframe tbody tr th:only-of-type {\n",
       "        vertical-align: middle;\n",
       "    }\n",
       "\n",
       "    .dataframe tbody tr th {\n",
       "        vertical-align: top;\n",
       "    }\n",
       "\n",
       "    .dataframe thead th {\n",
       "        text-align: right;\n",
       "    }\n",
       "</style>\n",
       "<table border=\"1\" class=\"dataframe\">\n",
       "  <thead>\n",
       "    <tr style=\"text-align: right;\">\n",
       "      <th></th>\n",
       "      <th>best</th>\n",
       "      <th>cmng</th>\n",
       "      <th>dn</th>\n",
       "      <th>fine</th>\n",
       "      <th>fn</th>\n",
       "      <th>friend</th>\n",
       "      <th>frnd</th>\n",
       "      <th>gr</th>\n",
       "      <th>r</th>\n",
       "      <th>u</th>\n",
       "      <th>gender</th>\n",
       "    </tr>\n",
       "  </thead>\n",
       "  <tbody>\n",
       "    <tr>\n",
       "      <th>0</th>\n",
       "      <td>0</td>\n",
       "      <td>2</td>\n",
       "      <td>0</td>\n",
       "      <td>0</td>\n",
       "      <td>0</td>\n",
       "      <td>0</td>\n",
       "      <td>0</td>\n",
       "      <td>0</td>\n",
       "      <td>1</td>\n",
       "      <td>2</td>\n",
       "      <td>1</td>\n",
       "    </tr>\n",
       "    <tr>\n",
       "      <th>1</th>\n",
       "      <td>0</td>\n",
       "      <td>1</td>\n",
       "      <td>0</td>\n",
       "      <td>0</td>\n",
       "      <td>0</td>\n",
       "      <td>0</td>\n",
       "      <td>0</td>\n",
       "      <td>0</td>\n",
       "      <td>1</td>\n",
       "      <td>0</td>\n",
       "      <td>0</td>\n",
       "    </tr>\n",
       "    <tr>\n",
       "      <th>2</th>\n",
       "      <td>0</td>\n",
       "      <td>0</td>\n",
       "      <td>0</td>\n",
       "      <td>2</td>\n",
       "      <td>0</td>\n",
       "      <td>0</td>\n",
       "      <td>0</td>\n",
       "      <td>0</td>\n",
       "      <td>1</td>\n",
       "      <td>1</td>\n",
       "      <td>1</td>\n",
       "    </tr>\n",
       "    <tr>\n",
       "      <th>3</th>\n",
       "      <td>0</td>\n",
       "      <td>0</td>\n",
       "      <td>0</td>\n",
       "      <td>0</td>\n",
       "      <td>1</td>\n",
       "      <td>0</td>\n",
       "      <td>0</td>\n",
       "      <td>0</td>\n",
       "      <td>0</td>\n",
       "      <td>0</td>\n",
       "      <td>0</td>\n",
       "    </tr>\n",
       "    <tr>\n",
       "      <th>4</th>\n",
       "      <td>0</td>\n",
       "      <td>0</td>\n",
       "      <td>1</td>\n",
       "      <td>0</td>\n",
       "      <td>0</td>\n",
       "      <td>0</td>\n",
       "      <td>1</td>\n",
       "      <td>1</td>\n",
       "      <td>0</td>\n",
       "      <td>0</td>\n",
       "      <td>1</td>\n",
       "    </tr>\n",
       "    <tr>\n",
       "      <th>5</th>\n",
       "      <td>1</td>\n",
       "      <td>0</td>\n",
       "      <td>0</td>\n",
       "      <td>0</td>\n",
       "      <td>0</td>\n",
       "      <td>1</td>\n",
       "      <td>0</td>\n",
       "      <td>0</td>\n",
       "      <td>0</td>\n",
       "      <td>0</td>\n",
       "      <td>0</td>\n",
       "    </tr>\n",
       "  </tbody>\n",
       "</table>\n",
       "</div>"
      ],
      "text/plain": [
       "   best  cmng  dn  fine  fn  friend  frnd  gr  r  u  gender\n",
       "0     0     2   0     0   0       0     0   0  1  2       1\n",
       "1     0     1   0     0   0       0     0   0  1  0       0\n",
       "2     0     0   0     2   0       0     0   0  1  1       1\n",
       "3     0     0   0     0   1       0     0   0  0  0       0\n",
       "4     0     0   1     0   0       0     1   1  0  0       1\n",
       "5     1     0   0     0   0       1     0   0  0  0       0"
      ]
     },
     "execution_count": 723,
     "metadata": {},
     "output_type": "execute_result"
    }
   ],
   "source": [
    "print('Train Features after Assigning a \\'gender\\' Column:')\n",
    "train_vect['gender'] = train_data.gender\n",
    "train_vect"
   ]
  },
  {
   "cell_type": "code",
   "execution_count": 724,
   "metadata": {
    "scrolled": true
   },
   "outputs": [
    {
     "name": "stdout",
     "output_type": "stream",
     "text": [
      "Test Features after Assigning a 'gender' Column:\n"
     ]
    },
    {
     "data": {
      "text/html": [
       "<div>\n",
       "<style scoped>\n",
       "    .dataframe tbody tr th:only-of-type {\n",
       "        vertical-align: middle;\n",
       "    }\n",
       "\n",
       "    .dataframe tbody tr th {\n",
       "        vertical-align: top;\n",
       "    }\n",
       "\n",
       "    .dataframe thead th {\n",
       "        text-align: right;\n",
       "    }\n",
       "</style>\n",
       "<table border=\"1\" class=\"dataframe\">\n",
       "  <thead>\n",
       "    <tr style=\"text-align: right;\">\n",
       "      <th></th>\n",
       "      <th>best</th>\n",
       "      <th>cmng</th>\n",
       "      <th>dn</th>\n",
       "      <th>fine</th>\n",
       "      <th>fn</th>\n",
       "      <th>friend</th>\n",
       "      <th>frnd</th>\n",
       "      <th>gr</th>\n",
       "      <th>r</th>\n",
       "      <th>u</th>\n",
       "      <th>gender</th>\n",
       "    </tr>\n",
       "  </thead>\n",
       "  <tbody>\n",
       "    <tr>\n",
       "      <th>0</th>\n",
       "      <td>0</td>\n",
       "      <td>0</td>\n",
       "      <td>0</td>\n",
       "      <td>0</td>\n",
       "      <td>0</td>\n",
       "      <td>0</td>\n",
       "      <td>1</td>\n",
       "      <td>0</td>\n",
       "      <td>0</td>\n",
       "      <td>0</td>\n",
       "      <td>1</td>\n",
       "    </tr>\n",
       "    <tr>\n",
       "      <th>1</th>\n",
       "      <td>0</td>\n",
       "      <td>0</td>\n",
       "      <td>0</td>\n",
       "      <td>0</td>\n",
       "      <td>0</td>\n",
       "      <td>0</td>\n",
       "      <td>0</td>\n",
       "      <td>0</td>\n",
       "      <td>2</td>\n",
       "      <td>2</td>\n",
       "      <td>0</td>\n",
       "    </tr>\n",
       "    <tr>\n",
       "      <th>2</th>\n",
       "      <td>0</td>\n",
       "      <td>0</td>\n",
       "      <td>0</td>\n",
       "      <td>0</td>\n",
       "      <td>0</td>\n",
       "      <td>0</td>\n",
       "      <td>0</td>\n",
       "      <td>0</td>\n",
       "      <td>1</td>\n",
       "      <td>0</td>\n",
       "      <td>1</td>\n",
       "    </tr>\n",
       "    <tr>\n",
       "      <th>3</th>\n",
       "      <td>0</td>\n",
       "      <td>0</td>\n",
       "      <td>0</td>\n",
       "      <td>0</td>\n",
       "      <td>0</td>\n",
       "      <td>0</td>\n",
       "      <td>0</td>\n",
       "      <td>0</td>\n",
       "      <td>0</td>\n",
       "      <td>0</td>\n",
       "      <td>0</td>\n",
       "    </tr>\n",
       "  </tbody>\n",
       "</table>\n",
       "</div>"
      ],
      "text/plain": [
       "   best  cmng  dn  fine  fn  friend  frnd  gr  r  u  gender\n",
       "0     0     0   0     0   0       0     1   0  0  0       1\n",
       "1     0     0   0     0   0       0     0   0  2  2       0\n",
       "2     0     0   0     0   0       0     0   0  1  0       1\n",
       "3     0     0   0     0   0       0     0   0  0  0       0"
      ]
     },
     "execution_count": 724,
     "metadata": {},
     "output_type": "execute_result"
    }
   ],
   "source": [
    "print('Test Features after Assigning a \\'gender\\' Column:')\n",
    "test_vect['gender'] = test_data.gender\n",
    "test_vect"
   ]
  },
  {
   "cell_type": "code",
   "execution_count": 725,
   "metadata": {},
   "outputs": [
    {
     "name": "stdout",
     "output_type": "stream",
     "text": [
      "Check shape of the Features After adding gender column:\n",
      "Train Features Shape  (6, 11)\n",
      "Test  Features Shape  (4, 11)\n"
     ]
    }
   ],
   "source": [
    "print('Check shape of the Features After adding gender column:')\n",
    "print(\"Train Features Shape \" ,train_vect.shape)\n",
    "print(\"Test  Features Shape \",test_vect.shape)"
   ]
  },
  {
   "cell_type": "markdown",
   "metadata": {},
   "source": [
    "## Step 5: Train Machine Learning Algorithms using Training Data"
   ]
  },
  {
   "cell_type": "code",
   "execution_count": 726,
   "metadata": {},
   "outputs": [],
   "source": [
    "train_X = train_vect.drop('gender',axis=1)\n",
    "train_y = train_vect['gender']\n"
   ]
  },
  {
   "cell_type": "code",
   "execution_count": 727,
   "metadata": {},
   "outputs": [
    {
     "name": "stdout",
     "output_type": "stream",
     "text": [
      "Training Data:\n",
      "\n"
     ]
    },
    {
     "data": {
      "text/html": [
       "<style  type=\"text/css\" >\n",
       "</style>  \n",
       "<table id=\"T_f3b67806_f09c_11e8_bf99_317d27321ca6\" style='display:inline'><caption>Train Examples Input:</caption> \n",
       "<thead>    <tr> \n",
       "        <th class=\"blank level0\" ></th> \n",
       "        <th class=\"col_heading level0 col0\" >best</th> \n",
       "        <th class=\"col_heading level0 col1\" >cmng</th> \n",
       "        <th class=\"col_heading level0 col2\" >dn</th> \n",
       "        <th class=\"col_heading level0 col3\" >fine</th> \n",
       "        <th class=\"col_heading level0 col4\" >fn</th> \n",
       "        <th class=\"col_heading level0 col5\" >friend</th> \n",
       "        <th class=\"col_heading level0 col6\" >frnd</th> \n",
       "        <th class=\"col_heading level0 col7\" >gr</th> \n",
       "        <th class=\"col_heading level0 col8\" >r</th> \n",
       "        <th class=\"col_heading level0 col9\" >u</th> \n",
       "    </tr></thead> \n",
       "<tbody>    <tr> \n",
       "        <th id=\"T_f3b67806_f09c_11e8_bf99_317d27321ca6level0_row0\" class=\"row_heading level0 row0\" >0</th> \n",
       "        <td id=\"T_f3b67806_f09c_11e8_bf99_317d27321ca6row0_col0\" class=\"data row0 col0\" >0</td> \n",
       "        <td id=\"T_f3b67806_f09c_11e8_bf99_317d27321ca6row0_col1\" class=\"data row0 col1\" >2</td> \n",
       "        <td id=\"T_f3b67806_f09c_11e8_bf99_317d27321ca6row0_col2\" class=\"data row0 col2\" >0</td> \n",
       "        <td id=\"T_f3b67806_f09c_11e8_bf99_317d27321ca6row0_col3\" class=\"data row0 col3\" >0</td> \n",
       "        <td id=\"T_f3b67806_f09c_11e8_bf99_317d27321ca6row0_col4\" class=\"data row0 col4\" >0</td> \n",
       "        <td id=\"T_f3b67806_f09c_11e8_bf99_317d27321ca6row0_col5\" class=\"data row0 col5\" >0</td> \n",
       "        <td id=\"T_f3b67806_f09c_11e8_bf99_317d27321ca6row0_col6\" class=\"data row0 col6\" >0</td> \n",
       "        <td id=\"T_f3b67806_f09c_11e8_bf99_317d27321ca6row0_col7\" class=\"data row0 col7\" >0</td> \n",
       "        <td id=\"T_f3b67806_f09c_11e8_bf99_317d27321ca6row0_col8\" class=\"data row0 col8\" >1</td> \n",
       "        <td id=\"T_f3b67806_f09c_11e8_bf99_317d27321ca6row0_col9\" class=\"data row0 col9\" >2</td> \n",
       "    </tr>    <tr> \n",
       "        <th id=\"T_f3b67806_f09c_11e8_bf99_317d27321ca6level0_row1\" class=\"row_heading level0 row1\" >1</th> \n",
       "        <td id=\"T_f3b67806_f09c_11e8_bf99_317d27321ca6row1_col0\" class=\"data row1 col0\" >0</td> \n",
       "        <td id=\"T_f3b67806_f09c_11e8_bf99_317d27321ca6row1_col1\" class=\"data row1 col1\" >1</td> \n",
       "        <td id=\"T_f3b67806_f09c_11e8_bf99_317d27321ca6row1_col2\" class=\"data row1 col2\" >0</td> \n",
       "        <td id=\"T_f3b67806_f09c_11e8_bf99_317d27321ca6row1_col3\" class=\"data row1 col3\" >0</td> \n",
       "        <td id=\"T_f3b67806_f09c_11e8_bf99_317d27321ca6row1_col4\" class=\"data row1 col4\" >0</td> \n",
       "        <td id=\"T_f3b67806_f09c_11e8_bf99_317d27321ca6row1_col5\" class=\"data row1 col5\" >0</td> \n",
       "        <td id=\"T_f3b67806_f09c_11e8_bf99_317d27321ca6row1_col6\" class=\"data row1 col6\" >0</td> \n",
       "        <td id=\"T_f3b67806_f09c_11e8_bf99_317d27321ca6row1_col7\" class=\"data row1 col7\" >0</td> \n",
       "        <td id=\"T_f3b67806_f09c_11e8_bf99_317d27321ca6row1_col8\" class=\"data row1 col8\" >1</td> \n",
       "        <td id=\"T_f3b67806_f09c_11e8_bf99_317d27321ca6row1_col9\" class=\"data row1 col9\" >0</td> \n",
       "    </tr>    <tr> \n",
       "        <th id=\"T_f3b67806_f09c_11e8_bf99_317d27321ca6level0_row2\" class=\"row_heading level0 row2\" >2</th> \n",
       "        <td id=\"T_f3b67806_f09c_11e8_bf99_317d27321ca6row2_col0\" class=\"data row2 col0\" >0</td> \n",
       "        <td id=\"T_f3b67806_f09c_11e8_bf99_317d27321ca6row2_col1\" class=\"data row2 col1\" >0</td> \n",
       "        <td id=\"T_f3b67806_f09c_11e8_bf99_317d27321ca6row2_col2\" class=\"data row2 col2\" >0</td> \n",
       "        <td id=\"T_f3b67806_f09c_11e8_bf99_317d27321ca6row2_col3\" class=\"data row2 col3\" >2</td> \n",
       "        <td id=\"T_f3b67806_f09c_11e8_bf99_317d27321ca6row2_col4\" class=\"data row2 col4\" >0</td> \n",
       "        <td id=\"T_f3b67806_f09c_11e8_bf99_317d27321ca6row2_col5\" class=\"data row2 col5\" >0</td> \n",
       "        <td id=\"T_f3b67806_f09c_11e8_bf99_317d27321ca6row2_col6\" class=\"data row2 col6\" >0</td> \n",
       "        <td id=\"T_f3b67806_f09c_11e8_bf99_317d27321ca6row2_col7\" class=\"data row2 col7\" >0</td> \n",
       "        <td id=\"T_f3b67806_f09c_11e8_bf99_317d27321ca6row2_col8\" class=\"data row2 col8\" >1</td> \n",
       "        <td id=\"T_f3b67806_f09c_11e8_bf99_317d27321ca6row2_col9\" class=\"data row2 col9\" >1</td> \n",
       "    </tr>    <tr> \n",
       "        <th id=\"T_f3b67806_f09c_11e8_bf99_317d27321ca6level0_row3\" class=\"row_heading level0 row3\" >3</th> \n",
       "        <td id=\"T_f3b67806_f09c_11e8_bf99_317d27321ca6row3_col0\" class=\"data row3 col0\" >0</td> \n",
       "        <td id=\"T_f3b67806_f09c_11e8_bf99_317d27321ca6row3_col1\" class=\"data row3 col1\" >0</td> \n",
       "        <td id=\"T_f3b67806_f09c_11e8_bf99_317d27321ca6row3_col2\" class=\"data row3 col2\" >0</td> \n",
       "        <td id=\"T_f3b67806_f09c_11e8_bf99_317d27321ca6row3_col3\" class=\"data row3 col3\" >0</td> \n",
       "        <td id=\"T_f3b67806_f09c_11e8_bf99_317d27321ca6row3_col4\" class=\"data row3 col4\" >1</td> \n",
       "        <td id=\"T_f3b67806_f09c_11e8_bf99_317d27321ca6row3_col5\" class=\"data row3 col5\" >0</td> \n",
       "        <td id=\"T_f3b67806_f09c_11e8_bf99_317d27321ca6row3_col6\" class=\"data row3 col6\" >0</td> \n",
       "        <td id=\"T_f3b67806_f09c_11e8_bf99_317d27321ca6row3_col7\" class=\"data row3 col7\" >0</td> \n",
       "        <td id=\"T_f3b67806_f09c_11e8_bf99_317d27321ca6row3_col8\" class=\"data row3 col8\" >0</td> \n",
       "        <td id=\"T_f3b67806_f09c_11e8_bf99_317d27321ca6row3_col9\" class=\"data row3 col9\" >0</td> \n",
       "    </tr>    <tr> \n",
       "        <th id=\"T_f3b67806_f09c_11e8_bf99_317d27321ca6level0_row4\" class=\"row_heading level0 row4\" >4</th> \n",
       "        <td id=\"T_f3b67806_f09c_11e8_bf99_317d27321ca6row4_col0\" class=\"data row4 col0\" >0</td> \n",
       "        <td id=\"T_f3b67806_f09c_11e8_bf99_317d27321ca6row4_col1\" class=\"data row4 col1\" >0</td> \n",
       "        <td id=\"T_f3b67806_f09c_11e8_bf99_317d27321ca6row4_col2\" class=\"data row4 col2\" >1</td> \n",
       "        <td id=\"T_f3b67806_f09c_11e8_bf99_317d27321ca6row4_col3\" class=\"data row4 col3\" >0</td> \n",
       "        <td id=\"T_f3b67806_f09c_11e8_bf99_317d27321ca6row4_col4\" class=\"data row4 col4\" >0</td> \n",
       "        <td id=\"T_f3b67806_f09c_11e8_bf99_317d27321ca6row4_col5\" class=\"data row4 col5\" >0</td> \n",
       "        <td id=\"T_f3b67806_f09c_11e8_bf99_317d27321ca6row4_col6\" class=\"data row4 col6\" >1</td> \n",
       "        <td id=\"T_f3b67806_f09c_11e8_bf99_317d27321ca6row4_col7\" class=\"data row4 col7\" >1</td> \n",
       "        <td id=\"T_f3b67806_f09c_11e8_bf99_317d27321ca6row4_col8\" class=\"data row4 col8\" >0</td> \n",
       "        <td id=\"T_f3b67806_f09c_11e8_bf99_317d27321ca6row4_col9\" class=\"data row4 col9\" >0</td> \n",
       "    </tr>    <tr> \n",
       "        <th id=\"T_f3b67806_f09c_11e8_bf99_317d27321ca6level0_row5\" class=\"row_heading level0 row5\" >5</th> \n",
       "        <td id=\"T_f3b67806_f09c_11e8_bf99_317d27321ca6row5_col0\" class=\"data row5 col0\" >1</td> \n",
       "        <td id=\"T_f3b67806_f09c_11e8_bf99_317d27321ca6row5_col1\" class=\"data row5 col1\" >0</td> \n",
       "        <td id=\"T_f3b67806_f09c_11e8_bf99_317d27321ca6row5_col2\" class=\"data row5 col2\" >0</td> \n",
       "        <td id=\"T_f3b67806_f09c_11e8_bf99_317d27321ca6row5_col3\" class=\"data row5 col3\" >0</td> \n",
       "        <td id=\"T_f3b67806_f09c_11e8_bf99_317d27321ca6row5_col4\" class=\"data row5 col4\" >0</td> \n",
       "        <td id=\"T_f3b67806_f09c_11e8_bf99_317d27321ca6row5_col5\" class=\"data row5 col5\" >1</td> \n",
       "        <td id=\"T_f3b67806_f09c_11e8_bf99_317d27321ca6row5_col6\" class=\"data row5 col6\" >0</td> \n",
       "        <td id=\"T_f3b67806_f09c_11e8_bf99_317d27321ca6row5_col7\" class=\"data row5 col7\" >0</td> \n",
       "        <td id=\"T_f3b67806_f09c_11e8_bf99_317d27321ca6row5_col8\" class=\"data row5 col8\" >0</td> \n",
       "        <td id=\"T_f3b67806_f09c_11e8_bf99_317d27321ca6row5_col9\" class=\"data row5 col9\" >0</td> \n",
       "    </tr></tbody> \n",
       "</table> <style  type=\"text/css\" >\n",
       "</style>  \n",
       "<table id=\"T_f3b70f28_f09c_11e8_bf99_317d27321ca6\" style='display:inline'><caption>Train Examples Output:</caption> \n",
       "<thead>    <tr> \n",
       "        <th class=\"blank level0\" ></th> \n",
       "        <th class=\"col_heading level0 col0\" >gender</th> \n",
       "    </tr></thead> \n",
       "<tbody>    <tr> \n",
       "        <th id=\"T_f3b70f28_f09c_11e8_bf99_317d27321ca6level0_row0\" class=\"row_heading level0 row0\" >0</th> \n",
       "        <td id=\"T_f3b70f28_f09c_11e8_bf99_317d27321ca6row0_col0\" class=\"data row0 col0\" >1</td> \n",
       "    </tr>    <tr> \n",
       "        <th id=\"T_f3b70f28_f09c_11e8_bf99_317d27321ca6level0_row1\" class=\"row_heading level0 row1\" >1</th> \n",
       "        <td id=\"T_f3b70f28_f09c_11e8_bf99_317d27321ca6row1_col0\" class=\"data row1 col0\" >0</td> \n",
       "    </tr>    <tr> \n",
       "        <th id=\"T_f3b70f28_f09c_11e8_bf99_317d27321ca6level0_row2\" class=\"row_heading level0 row2\" >2</th> \n",
       "        <td id=\"T_f3b70f28_f09c_11e8_bf99_317d27321ca6row2_col0\" class=\"data row2 col0\" >1</td> \n",
       "    </tr>    <tr> \n",
       "        <th id=\"T_f3b70f28_f09c_11e8_bf99_317d27321ca6level0_row3\" class=\"row_heading level0 row3\" >3</th> \n",
       "        <td id=\"T_f3b70f28_f09c_11e8_bf99_317d27321ca6row3_col0\" class=\"data row3 col0\" >0</td> \n",
       "    </tr>    <tr> \n",
       "        <th id=\"T_f3b70f28_f09c_11e8_bf99_317d27321ca6level0_row4\" class=\"row_heading level0 row4\" >4</th> \n",
       "        <td id=\"T_f3b70f28_f09c_11e8_bf99_317d27321ca6row4_col0\" class=\"data row4 col0\" >1</td> \n",
       "    </tr>    <tr> \n",
       "        <th id=\"T_f3b70f28_f09c_11e8_bf99_317d27321ca6level0_row5\" class=\"row_heading level0 row5\" >5</th> \n",
       "        <td id=\"T_f3b70f28_f09c_11e8_bf99_317d27321ca6row5_col0\" class=\"data row5 col0\" >0</td> \n",
       "    </tr></tbody> \n",
       "</table> "
      ]
     },
     "metadata": {},
     "output_type": "display_data"
    }
   ],
   "source": [
    "print('Training Data:\\n')\n",
    "df1_styler = train_X.style.set_table_attributes(\"style='display:inline'\").set_caption('Train Examples Input:')\n",
    "df2_styler = pd.DataFrame(train_y).style.set_table_attributes(\"style='display:inline'\").set_caption('Train Examples Output:')\n",
    "\n",
    "display_html(df1_styler._repr_html_()+df2_styler._repr_html_(), raw=True)"
   ]
  },
  {
   "cell_type": "code",
   "execution_count": 728,
   "metadata": {},
   "outputs": [],
   "source": [
    "test_X = test_vect.drop('gender',axis=1)\n",
    "test_y = test_vect['gender']\n"
   ]
  },
  {
   "cell_type": "code",
   "execution_count": 729,
   "metadata": {},
   "outputs": [
    {
     "name": "stdout",
     "output_type": "stream",
     "text": [
      "Training Data:\n",
      "\n"
     ]
    },
    {
     "data": {
      "text/html": [
       "<style  type=\"text/css\" >\n",
       "</style>  \n",
       "<table id=\"T_f3f42c46_f09c_11e8_bf99_317d27321ca6\" style='display:inline'><caption>Test Examples Input:</caption> \n",
       "<thead>    <tr> \n",
       "        <th class=\"blank level0\" ></th> \n",
       "        <th class=\"col_heading level0 col0\" >best</th> \n",
       "        <th class=\"col_heading level0 col1\" >cmng</th> \n",
       "        <th class=\"col_heading level0 col2\" >dn</th> \n",
       "        <th class=\"col_heading level0 col3\" >fine</th> \n",
       "        <th class=\"col_heading level0 col4\" >fn</th> \n",
       "        <th class=\"col_heading level0 col5\" >friend</th> \n",
       "        <th class=\"col_heading level0 col6\" >frnd</th> \n",
       "        <th class=\"col_heading level0 col7\" >gr</th> \n",
       "        <th class=\"col_heading level0 col8\" >r</th> \n",
       "        <th class=\"col_heading level0 col9\" >u</th> \n",
       "    </tr></thead> \n",
       "<tbody>    <tr> \n",
       "        <th id=\"T_f3f42c46_f09c_11e8_bf99_317d27321ca6level0_row0\" class=\"row_heading level0 row0\" >0</th> \n",
       "        <td id=\"T_f3f42c46_f09c_11e8_bf99_317d27321ca6row0_col0\" class=\"data row0 col0\" >0</td> \n",
       "        <td id=\"T_f3f42c46_f09c_11e8_bf99_317d27321ca6row0_col1\" class=\"data row0 col1\" >0</td> \n",
       "        <td id=\"T_f3f42c46_f09c_11e8_bf99_317d27321ca6row0_col2\" class=\"data row0 col2\" >0</td> \n",
       "        <td id=\"T_f3f42c46_f09c_11e8_bf99_317d27321ca6row0_col3\" class=\"data row0 col3\" >0</td> \n",
       "        <td id=\"T_f3f42c46_f09c_11e8_bf99_317d27321ca6row0_col4\" class=\"data row0 col4\" >0</td> \n",
       "        <td id=\"T_f3f42c46_f09c_11e8_bf99_317d27321ca6row0_col5\" class=\"data row0 col5\" >0</td> \n",
       "        <td id=\"T_f3f42c46_f09c_11e8_bf99_317d27321ca6row0_col6\" class=\"data row0 col6\" >1</td> \n",
       "        <td id=\"T_f3f42c46_f09c_11e8_bf99_317d27321ca6row0_col7\" class=\"data row0 col7\" >0</td> \n",
       "        <td id=\"T_f3f42c46_f09c_11e8_bf99_317d27321ca6row0_col8\" class=\"data row0 col8\" >0</td> \n",
       "        <td id=\"T_f3f42c46_f09c_11e8_bf99_317d27321ca6row0_col9\" class=\"data row0 col9\" >0</td> \n",
       "    </tr>    <tr> \n",
       "        <th id=\"T_f3f42c46_f09c_11e8_bf99_317d27321ca6level0_row1\" class=\"row_heading level0 row1\" >1</th> \n",
       "        <td id=\"T_f3f42c46_f09c_11e8_bf99_317d27321ca6row1_col0\" class=\"data row1 col0\" >0</td> \n",
       "        <td id=\"T_f3f42c46_f09c_11e8_bf99_317d27321ca6row1_col1\" class=\"data row1 col1\" >0</td> \n",
       "        <td id=\"T_f3f42c46_f09c_11e8_bf99_317d27321ca6row1_col2\" class=\"data row1 col2\" >0</td> \n",
       "        <td id=\"T_f3f42c46_f09c_11e8_bf99_317d27321ca6row1_col3\" class=\"data row1 col3\" >0</td> \n",
       "        <td id=\"T_f3f42c46_f09c_11e8_bf99_317d27321ca6row1_col4\" class=\"data row1 col4\" >0</td> \n",
       "        <td id=\"T_f3f42c46_f09c_11e8_bf99_317d27321ca6row1_col5\" class=\"data row1 col5\" >0</td> \n",
       "        <td id=\"T_f3f42c46_f09c_11e8_bf99_317d27321ca6row1_col6\" class=\"data row1 col6\" >0</td> \n",
       "        <td id=\"T_f3f42c46_f09c_11e8_bf99_317d27321ca6row1_col7\" class=\"data row1 col7\" >0</td> \n",
       "        <td id=\"T_f3f42c46_f09c_11e8_bf99_317d27321ca6row1_col8\" class=\"data row1 col8\" >2</td> \n",
       "        <td id=\"T_f3f42c46_f09c_11e8_bf99_317d27321ca6row1_col9\" class=\"data row1 col9\" >2</td> \n",
       "    </tr>    <tr> \n",
       "        <th id=\"T_f3f42c46_f09c_11e8_bf99_317d27321ca6level0_row2\" class=\"row_heading level0 row2\" >2</th> \n",
       "        <td id=\"T_f3f42c46_f09c_11e8_bf99_317d27321ca6row2_col0\" class=\"data row2 col0\" >0</td> \n",
       "        <td id=\"T_f3f42c46_f09c_11e8_bf99_317d27321ca6row2_col1\" class=\"data row2 col1\" >0</td> \n",
       "        <td id=\"T_f3f42c46_f09c_11e8_bf99_317d27321ca6row2_col2\" class=\"data row2 col2\" >0</td> \n",
       "        <td id=\"T_f3f42c46_f09c_11e8_bf99_317d27321ca6row2_col3\" class=\"data row2 col3\" >0</td> \n",
       "        <td id=\"T_f3f42c46_f09c_11e8_bf99_317d27321ca6row2_col4\" class=\"data row2 col4\" >0</td> \n",
       "        <td id=\"T_f3f42c46_f09c_11e8_bf99_317d27321ca6row2_col5\" class=\"data row2 col5\" >0</td> \n",
       "        <td id=\"T_f3f42c46_f09c_11e8_bf99_317d27321ca6row2_col6\" class=\"data row2 col6\" >0</td> \n",
       "        <td id=\"T_f3f42c46_f09c_11e8_bf99_317d27321ca6row2_col7\" class=\"data row2 col7\" >0</td> \n",
       "        <td id=\"T_f3f42c46_f09c_11e8_bf99_317d27321ca6row2_col8\" class=\"data row2 col8\" >1</td> \n",
       "        <td id=\"T_f3f42c46_f09c_11e8_bf99_317d27321ca6row2_col9\" class=\"data row2 col9\" >0</td> \n",
       "    </tr>    <tr> \n",
       "        <th id=\"T_f3f42c46_f09c_11e8_bf99_317d27321ca6level0_row3\" class=\"row_heading level0 row3\" >3</th> \n",
       "        <td id=\"T_f3f42c46_f09c_11e8_bf99_317d27321ca6row3_col0\" class=\"data row3 col0\" >0</td> \n",
       "        <td id=\"T_f3f42c46_f09c_11e8_bf99_317d27321ca6row3_col1\" class=\"data row3 col1\" >0</td> \n",
       "        <td id=\"T_f3f42c46_f09c_11e8_bf99_317d27321ca6row3_col2\" class=\"data row3 col2\" >0</td> \n",
       "        <td id=\"T_f3f42c46_f09c_11e8_bf99_317d27321ca6row3_col3\" class=\"data row3 col3\" >0</td> \n",
       "        <td id=\"T_f3f42c46_f09c_11e8_bf99_317d27321ca6row3_col4\" class=\"data row3 col4\" >0</td> \n",
       "        <td id=\"T_f3f42c46_f09c_11e8_bf99_317d27321ca6row3_col5\" class=\"data row3 col5\" >0</td> \n",
       "        <td id=\"T_f3f42c46_f09c_11e8_bf99_317d27321ca6row3_col6\" class=\"data row3 col6\" >0</td> \n",
       "        <td id=\"T_f3f42c46_f09c_11e8_bf99_317d27321ca6row3_col7\" class=\"data row3 col7\" >0</td> \n",
       "        <td id=\"T_f3f42c46_f09c_11e8_bf99_317d27321ca6row3_col8\" class=\"data row3 col8\" >0</td> \n",
       "        <td id=\"T_f3f42c46_f09c_11e8_bf99_317d27321ca6row3_col9\" class=\"data row3 col9\" >0</td> \n",
       "    </tr></tbody> \n",
       "</table> <style  type=\"text/css\" >\n",
       "</style>  \n",
       "<table id=\"T_f3f49f8c_f09c_11e8_bf99_317d27321ca6\" style='display:inline'><caption>Test Examples Output:</caption> \n",
       "<thead>    <tr> \n",
       "        <th class=\"blank level0\" ></th> \n",
       "        <th class=\"col_heading level0 col0\" >gender</th> \n",
       "    </tr></thead> \n",
       "<tbody>    <tr> \n",
       "        <th id=\"T_f3f49f8c_f09c_11e8_bf99_317d27321ca6level0_row0\" class=\"row_heading level0 row0\" >0</th> \n",
       "        <td id=\"T_f3f49f8c_f09c_11e8_bf99_317d27321ca6row0_col0\" class=\"data row0 col0\" >1</td> \n",
       "    </tr>    <tr> \n",
       "        <th id=\"T_f3f49f8c_f09c_11e8_bf99_317d27321ca6level0_row1\" class=\"row_heading level0 row1\" >1</th> \n",
       "        <td id=\"T_f3f49f8c_f09c_11e8_bf99_317d27321ca6row1_col0\" class=\"data row1 col0\" >0</td> \n",
       "    </tr>    <tr> \n",
       "        <th id=\"T_f3f49f8c_f09c_11e8_bf99_317d27321ca6level0_row2\" class=\"row_heading level0 row2\" >2</th> \n",
       "        <td id=\"T_f3f49f8c_f09c_11e8_bf99_317d27321ca6row2_col0\" class=\"data row2 col0\" >1</td> \n",
       "    </tr>    <tr> \n",
       "        <th id=\"T_f3f49f8c_f09c_11e8_bf99_317d27321ca6level0_row3\" class=\"row_heading level0 row3\" >3</th> \n",
       "        <td id=\"T_f3f49f8c_f09c_11e8_bf99_317d27321ca6row3_col0\" class=\"data row3 col0\" >0</td> \n",
       "    </tr></tbody> \n",
       "</table> "
      ]
     },
     "metadata": {},
     "output_type": "display_data"
    }
   ],
   "source": [
    "print('Training Data:\\n')\n",
    "df1_styler = test_X.style.set_table_attributes(\"style='display:inline'\").set_caption('Test Examples Input:')\n",
    "df2_styler = pd.DataFrame(test_y).style.set_table_attributes(\"style='display:inline'\").set_caption('Test Examples Output:')\n",
    "\n",
    "display_html(df1_styler._repr_html_()+df2_styler._repr_html_(), raw=True)"
   ]
  },
  {
   "cell_type": "markdown",
   "metadata": {},
   "source": [
    "##### Models of Machine Learning"
   ]
  },
  {
   "cell_type": "markdown",
   "metadata": {},
   "source": [
    "##### Logistic Regression Parameters"
   ]
  },
  {
   "cell_type": "markdown",
   "metadata": {},
   "source": [
    "Parameters and their values:\n",
    "\n",
    "LogisticRegression(penalty='l2', dual=False, tol=0.0001, C=1.0, fit_intercept=True, intercept_scaling=1, class_weight=None, random_state=None, solver='liblinear', max_iter=100, multi_class='ovr', verbose=0, warm_start=False, n_jobs=1)"
   ]
  },
  {
   "cell_type": "code",
   "execution_count": 730,
   "metadata": {
    "scrolled": true
   },
   "outputs": [],
   "source": [
    "from sklearn.linear_model import LogisticRegression\n",
    "LogisticRegression = LogisticRegression()\n",
    "LogisticRegression.fit(train_X,train_y)\n",
    "LogisticRegression_prediction = LogisticRegression.predict(test_X)\n",
    "accuracy_LogisticRegression = accuracy_score(test_y,LogisticRegression_prediction)\n"
   ]
  },
  {
   "cell_type": "markdown",
   "metadata": {},
   "source": [
    "##### Random forest  Parameters"
   ]
  },
  {
   "cell_type": "markdown",
   "metadata": {},
   "source": [
    "Parameters and their values:\n",
    "\n",
    "RandomForestClassifier(n_estimators=10, criterion='gini', max_depth=None, min_samples_split=2, min_samples_leaf=1, min_weight_fraction_leaf=0.0, max_features='auto', max_leaf_nodes=None, min_impurity_decrease=0.0, min_impurity_split=None, bootstrap=True, oob_score=False, n_jobs=1, random_state=None, verbose=0, warm_start=False, class_weight=None)\n",
    "Docstring:     \n",
    "A random forest classifier.\n",
    "\n",
    "A random forest is a meta estimator that fits a number of decision tree\n",
    "classifiers on various sub-samples of the dataset and use averaging to\n",
    "improve the predictive accuracy and control over-fitting.\n",
    "The sub-sample size is always the same as the original\n",
    "input sample size but the samples are drawn with replacement if\n",
    "`bootstrap=True` (default)."
   ]
  },
  {
   "cell_type": "code",
   "execution_count": 731,
   "metadata": {
    "scrolled": true
   },
   "outputs": [],
   "source": [
    "from sklearn.ensemble import RandomForestClassifier\n",
    "RandomForestClassifier = RandomForestClassifier()\n",
    "RandomForestClassifier.fit(train_X,train_y)\n",
    "RandomForestClassifier_prediction = RandomForestClassifier.predict(test_X)\n",
    "accuracy_RandomForestClassifier = accuracy_score(test_y,RandomForestClassifier_prediction)\n"
   ]
  },
  {
   "cell_type": "markdown",
   "metadata": {},
   "source": [
    "##### Linear SVC Parameters\n",
    "Parameters and their values:\n",
    "\n",
    "LinearSVC(penalty='l2', loss='squared_hinge', dual=True, tol=0.0001, C=1.0, multi_class='ovr', fit_intercept=True, intercept_scaling=1, class_weight=None, verbose=0, random_state=None, max_iter=1000)\n",
    "Docstring:     \n",
    "Linear Support Vector Classification.\n",
    "\n",
    "Similar to SVC with parameter kernel='linear', but implemented in terms of\n",
    "liblinear rather than libsvm, so it has more flexibility in the choice of\n",
    "penalties and loss functions and should scale better to large numbers of\n",
    "samples."
   ]
  },
  {
   "cell_type": "code",
   "execution_count": 732,
   "metadata": {
    "scrolled": true
   },
   "outputs": [],
   "source": [
    "from sklearn.svm import LinearSVC\n",
    "LinearSVC = LinearSVC()\n",
    "LinearSVC.fit(train_X,train_y)\n",
    "LinearSVC_prediction = LinearSVC.predict(test_X)\n",
    "accuracy_LinearSVC = accuracy_score(test_y,prediction)\n"
   ]
  },
  {
   "cell_type": "markdown",
   "metadata": {},
   "source": [
    "##### BernoulliNB\n",
    "Parameters and their values:\n",
    "\n",
    "BernoulliNB(alpha=1.0, binarize=0.0, fit_prior=True, class_prior=None)"
   ]
  },
  {
   "cell_type": "code",
   "execution_count": 733,
   "metadata": {
    "scrolled": true
   },
   "outputs": [],
   "source": [
    "from sklearn.naive_bayes import BernoulliNB\n",
    "BernoulliNB = BernoulliNB()\n",
    "BernoulliNB.fit(train_X,train_y)\n",
    "BernoulliNB_prediction = BernoulliNB.predict(test_X)\n",
    "accuracy_BernoulliNB = accuracy_score(test_y,prediction)\n"
   ]
  },
  {
   "cell_type": "markdown",
   "metadata": {},
   "source": [
    "## Step 6: Evaluate Machine Learning Algorithms using Test Data"
   ]
  },
  {
   "cell_type": "markdown",
   "metadata": {},
   "source": [
    "#### Logistic Regression Classifier"
   ]
  },
  {
   "cell_type": "code",
   "execution_count": 737,
   "metadata": {
    "scrolled": false
   },
   "outputs": [
    {
     "data": {
      "text/html": [
       "<div>\n",
       "<style scoped>\n",
       "    .dataframe tbody tr th:only-of-type {\n",
       "        vertical-align: middle;\n",
       "    }\n",
       "\n",
       "    .dataframe tbody tr th {\n",
       "        vertical-align: top;\n",
       "    }\n",
       "\n",
       "    .dataframe thead th {\n",
       "        text-align: right;\n",
       "    }\n",
       "</style>\n",
       "<table border=\"1\" class=\"dataframe\">\n",
       "  <thead>\n",
       "    <tr style=\"text-align: right;\">\n",
       "      <th></th>\n",
       "      <th>best</th>\n",
       "      <th>cmng</th>\n",
       "      <th>dn</th>\n",
       "      <th>fine</th>\n",
       "      <th>fn</th>\n",
       "      <th>friend</th>\n",
       "      <th>frnd</th>\n",
       "      <th>gr</th>\n",
       "      <th>r</th>\n",
       "      <th>u</th>\n",
       "      <th>gender</th>\n",
       "    </tr>\n",
       "  </thead>\n",
       "  <tbody>\n",
       "    <tr>\n",
       "      <th>0</th>\n",
       "      <td>0</td>\n",
       "      <td>0</td>\n",
       "      <td>0</td>\n",
       "      <td>0</td>\n",
       "      <td>0</td>\n",
       "      <td>0</td>\n",
       "      <td>1</td>\n",
       "      <td>0</td>\n",
       "      <td>0</td>\n",
       "      <td>0</td>\n",
       "      <td>1</td>\n",
       "    </tr>\n",
       "    <tr>\n",
       "      <th>1</th>\n",
       "      <td>0</td>\n",
       "      <td>0</td>\n",
       "      <td>0</td>\n",
       "      <td>0</td>\n",
       "      <td>0</td>\n",
       "      <td>0</td>\n",
       "      <td>0</td>\n",
       "      <td>0</td>\n",
       "      <td>2</td>\n",
       "      <td>2</td>\n",
       "      <td>0</td>\n",
       "    </tr>\n",
       "    <tr>\n",
       "      <th>2</th>\n",
       "      <td>0</td>\n",
       "      <td>0</td>\n",
       "      <td>0</td>\n",
       "      <td>0</td>\n",
       "      <td>0</td>\n",
       "      <td>0</td>\n",
       "      <td>0</td>\n",
       "      <td>0</td>\n",
       "      <td>1</td>\n",
       "      <td>0</td>\n",
       "      <td>1</td>\n",
       "    </tr>\n",
       "    <tr>\n",
       "      <th>3</th>\n",
       "      <td>0</td>\n",
       "      <td>0</td>\n",
       "      <td>0</td>\n",
       "      <td>0</td>\n",
       "      <td>0</td>\n",
       "      <td>0</td>\n",
       "      <td>0</td>\n",
       "      <td>0</td>\n",
       "      <td>0</td>\n",
       "      <td>0</td>\n",
       "      <td>0</td>\n",
       "    </tr>\n",
       "  </tbody>\n",
       "</table>\n",
       "</div>"
      ],
      "text/plain": [
       "   best  cmng  dn  fine  fn  friend  frnd  gr  r  u  gender\n",
       "0     0     0   0     0   0       0     1   0  0  0       1\n",
       "1     0     0   0     0   0       0     0   0  2  2       0\n",
       "2     0     0   0     0   0       0     0   0  1  0       1\n",
       "3     0     0   0     0   0       0     0   0  0  0       0"
      ]
     },
     "execution_count": 737,
     "metadata": {},
     "output_type": "execute_result"
    }
   ],
   "source": [
    "test_vect"
   ]
  },
  {
   "cell_type": "code",
   "execution_count": 738,
   "metadata": {
    "scrolled": true
   },
   "outputs": [],
   "source": [
    "x=test_data.copy()\n",
    "x.gender = decodegender(x.gender)\n",
    "x['predicted_gender']=decodegender(pd.Series(LogisticRegression_prediction))"
   ]
  },
  {
   "cell_type": "code",
   "execution_count": 739,
   "metadata": {},
   "outputs": [
    {
     "name": "stdout",
     "output_type": "stream",
     "text": [
      "Prediction using Logistic Regression\n",
      "\n",
      "                        comment_text  gender predicted_gender\n",
      "0  plz go out plz out with with frnd    male             male\n",
      "1              r u going to walk r u  female             male\n",
      "2                         r you find    male           female\n",
      "3                       are you find  female           female\n",
      "\n",
      "Accuracy Score =  0.5\n"
     ]
    }
   ],
   "source": [
    "print('Prediction using Logistic Regression\\n')\n",
    "print(x)\n",
    "print('\\nAccuracy Score = ',accuracy_LogisticRegression)"
   ]
  },
  {
   "cell_type": "markdown",
   "metadata": {},
   "source": [
    "#### Random Forest Classifier"
   ]
  },
  {
   "cell_type": "code",
   "execution_count": 740,
   "metadata": {
    "scrolled": false
   },
   "outputs": [],
   "source": [
    "x=test_data.copy()\n",
    "x.gender = decodegender(x.gender)\n",
    "x['predicted_gender']=decodegender(pd.Series(RandomForestClassifier_prediction))\n"
   ]
  },
  {
   "cell_type": "code",
   "execution_count": 741,
   "metadata": {},
   "outputs": [
    {
     "name": "stdout",
     "output_type": "stream",
     "text": [
      "Prediction using RandomForestClassifier\n",
      "\n",
      "                        comment_text  gender predicted_gender\n",
      "0  plz go out plz out with with frnd    male           female\n",
      "1              r u going to walk r u  female           female\n",
      "2                         r you find    male           female\n",
      "3                       are you find  female           female\n",
      "\n",
      "Accuracy Score =  0.5\n"
     ]
    }
   ],
   "source": [
    "print('Prediction using RandomForestClassifier\\n')\n",
    "print(x)\n",
    "print('\\nAccuracy Score = ',accuracy_RandomForestClassifier)"
   ]
  },
  {
   "cell_type": "markdown",
   "metadata": {},
   "source": [
    "##### BernoulliNB"
   ]
  },
  {
   "cell_type": "code",
   "execution_count": 742,
   "metadata": {
    "scrolled": false
   },
   "outputs": [],
   "source": [
    "x=test_data.copy()\n",
    "x.gender = decodegender(x.gender)\n",
    "x['predicted_gender']=decodegender(pd.Series(BernoulliNB_prediction))"
   ]
  },
  {
   "cell_type": "code",
   "execution_count": 743,
   "metadata": {},
   "outputs": [
    {
     "name": "stdout",
     "output_type": "stream",
     "text": [
      "Prediction using BernoulliNB\n",
      "\n",
      "                        comment_text  gender predicted_gender\n",
      "0  plz go out plz out with with frnd    male           female\n",
      "1              r u going to walk r u  female             male\n",
      "2                         r you find    male           female\n",
      "3                       are you find  female           female\n",
      "\n",
      "Accuracy Score =  0.25\n"
     ]
    }
   ],
   "source": [
    "print('Prediction using BernoulliNB\\n')\n",
    "print(x)\n",
    "print('\\nAccuracy Score = ',accuracy_BernoulliNB)"
   ]
  },
  {
   "cell_type": "markdown",
   "metadata": {},
   "source": [
    "##### LinearSVC"
   ]
  },
  {
   "cell_type": "code",
   "execution_count": 744,
   "metadata": {
    "scrolled": true
   },
   "outputs": [],
   "source": [
    "x=test_data.copy()\n",
    "x.gender = decodegender(x.gender)\n",
    "x['predicted_gender']=decodegender(pd.Series(LinearSVC_prediction))"
   ]
  },
  {
   "cell_type": "code",
   "execution_count": 745,
   "metadata": {},
   "outputs": [
    {
     "name": "stdout",
     "output_type": "stream",
     "text": [
      "Prediction using LinearSVC\n",
      "\n",
      "                        comment_text  gender predicted_gender\n",
      "0  plz go out plz out with with frnd    male           female\n",
      "1              r u going to walk r u  female             male\n",
      "2                         r you find    male           female\n",
      "3                       are you find  female           female\n",
      "\n",
      "Accuracy Score =  0.25\n"
     ]
    }
   ],
   "source": [
    "print('Prediction using LinearSVC\\n')\n",
    "print(x)\n",
    "print('\\nAccuracy Score = ',accuracy_LinearSVC)"
   ]
  },
  {
   "cell_type": "markdown",
   "metadata": {},
   "source": [
    "## Step 7: Selection of Best Model"
   ]
  },
  {
   "cell_type": "code",
   "execution_count": 746,
   "metadata": {},
   "outputs": [],
   "source": [
    "models = pd.DataFrame({'Models':\n",
    "                       ['LogisticRegression',\n",
    "                        'RandomForestClassifier',\n",
    "                        'LinearSVC',\n",
    "                        'BernoulliN'],\n",
    "                       'Accuracy':[accuracy_LogisticRegression,\n",
    "                                  accuracy_RandomForestClassifier,\n",
    "                                  accuracy_LinearSVC,\n",
    "                                  accuracy_BernoulliNB]\n",
    "                        })"
   ]
  },
  {
   "cell_type": "code",
   "execution_count": 747,
   "metadata": {},
   "outputs": [
    {
     "name": "stdout",
     "output_type": "stream",
     "text": [
      "Detail Performance of all the models\n"
     ]
    },
    {
     "data": {
      "text/html": [
       "<div>\n",
       "<style scoped>\n",
       "    .dataframe tbody tr th:only-of-type {\n",
       "        vertical-align: middle;\n",
       "    }\n",
       "\n",
       "    .dataframe tbody tr th {\n",
       "        vertical-align: top;\n",
       "    }\n",
       "\n",
       "    .dataframe thead th {\n",
       "        text-align: right;\n",
       "    }\n",
       "</style>\n",
       "<table border=\"1\" class=\"dataframe\">\n",
       "  <thead>\n",
       "    <tr style=\"text-align: right;\">\n",
       "      <th></th>\n",
       "      <th>Models</th>\n",
       "      <th>Accuracy</th>\n",
       "    </tr>\n",
       "  </thead>\n",
       "  <tbody>\n",
       "    <tr>\n",
       "      <th>0</th>\n",
       "      <td>LogisticRegression</td>\n",
       "      <td>0.50</td>\n",
       "    </tr>\n",
       "    <tr>\n",
       "      <th>1</th>\n",
       "      <td>RandomForestClassifier</td>\n",
       "      <td>0.50</td>\n",
       "    </tr>\n",
       "    <tr>\n",
       "      <th>2</th>\n",
       "      <td>LinearSVC</td>\n",
       "      <td>0.25</td>\n",
       "    </tr>\n",
       "    <tr>\n",
       "      <th>3</th>\n",
       "      <td>BernoulliN</td>\n",
       "      <td>0.25</td>\n",
       "    </tr>\n",
       "  </tbody>\n",
       "</table>\n",
       "</div>"
      ],
      "text/plain": [
       "                   Models  Accuracy\n",
       "0      LogisticRegression      0.50\n",
       "1  RandomForestClassifier      0.50\n",
       "2               LinearSVC      0.25\n",
       "3              BernoulliN      0.25"
      ]
     },
     "execution_count": 747,
     "metadata": {},
     "output_type": "execute_result"
    }
   ],
   "source": [
    "print('Detail Performance of all the models')\n",
    "models"
   ]
  },
  {
   "cell_type": "code",
   "execution_count": 748,
   "metadata": {},
   "outputs": [
    {
     "name": "stdout",
     "output_type": "stream",
     "text": [
      "Best Model\n"
     ]
    },
    {
     "data": {
      "text/plain": [
       "Models      RandomForestClassifier\n",
       "Accuracy                       0.5\n",
       "dtype: object"
      ]
     },
     "execution_count": 748,
     "metadata": {},
     "output_type": "execute_result"
    }
   ],
   "source": [
    "print(\"Best Model\")\n",
    "models.max()"
   ]
  },
  {
   "cell_type": "code",
   "execution_count": null,
   "metadata": {},
   "outputs": [],
   "source": []
  },
  {
   "cell_type": "markdown",
   "metadata": {},
   "source": [
    "## Step 8: Application Phase"
   ]
  },
  {
   "cell_type": "markdown",
   "metadata": {},
   "source": [
    "### Step 8.1: Combine Data (Train + Test )"
   ]
  },
  {
   "cell_type": "code",
   "execution_count": 749,
   "metadata": {},
   "outputs": [
    {
     "name": "stdout",
     "output_type": "stream",
     "text": [
      "Train Features in form of Datafram:\n",
      "\n",
      "   best  cmng  dn  fine  fn  friend  frnd  gr  r  u  gender\n",
      "0     0     2   0     0   0       0     0   0  1  2       1\n",
      "1     0     1   0     0   0       0     0   0  1  0       0\n",
      "2     0     0   0     2   0       0     0   0  1  1       1\n",
      "3     0     0   0     0   1       0     0   0  0  0       0\n",
      "4     0     0   1     0   0       0     1   1  0  0       1\n",
      "5     1     0   0     0   0       1     0   0  0  0       0\n"
     ]
    }
   ],
   "source": [
    "print('Train Features in form of Datafram:\\n')\n",
    "print(train_vect)"
   ]
  },
  {
   "cell_type": "code",
   "execution_count": 750,
   "metadata": {},
   "outputs": [
    {
     "name": "stdout",
     "output_type": "stream",
     "text": [
      "Test Features in form of Datafram:\n",
      "\n",
      "   best  cmng  dn  fine  fn  friend  frnd  gr  r  u  gender\n",
      "0     0     0   0     0   0       0     1   0  0  0       1\n",
      "1     0     0   0     0   0       0     0   0  2  2       0\n",
      "2     0     0   0     0   0       0     0   0  1  0       1\n",
      "3     0     0   0     0   0       0     0   0  0  0       0\n"
     ]
    }
   ],
   "source": [
    "print('Test Features in form of Datafram:\\n')\n",
    "print(test_vect)"
   ]
  },
  {
   "cell_type": "code",
   "execution_count": 751,
   "metadata": {},
   "outputs": [],
   "source": [
    "train_test_data = pd.concat([train_vect,test_vect],axis=0)"
   ]
  },
  {
   "cell_type": "code",
   "execution_count": 752,
   "metadata": {},
   "outputs": [
    {
     "name": "stdout",
     "output_type": "stream",
     "text": [
      "All Features in form of Dataframe:\n"
     ]
    },
    {
     "data": {
      "text/html": [
       "<div>\n",
       "<style scoped>\n",
       "    .dataframe tbody tr th:only-of-type {\n",
       "        vertical-align: middle;\n",
       "    }\n",
       "\n",
       "    .dataframe tbody tr th {\n",
       "        vertical-align: top;\n",
       "    }\n",
       "\n",
       "    .dataframe thead th {\n",
       "        text-align: right;\n",
       "    }\n",
       "</style>\n",
       "<table border=\"1\" class=\"dataframe\">\n",
       "  <thead>\n",
       "    <tr style=\"text-align: right;\">\n",
       "      <th></th>\n",
       "      <th>best</th>\n",
       "      <th>cmng</th>\n",
       "      <th>dn</th>\n",
       "      <th>fine</th>\n",
       "      <th>fn</th>\n",
       "      <th>friend</th>\n",
       "      <th>frnd</th>\n",
       "      <th>gr</th>\n",
       "      <th>r</th>\n",
       "      <th>u</th>\n",
       "      <th>gender</th>\n",
       "    </tr>\n",
       "  </thead>\n",
       "  <tbody>\n",
       "    <tr>\n",
       "      <th>0</th>\n",
       "      <td>0</td>\n",
       "      <td>2</td>\n",
       "      <td>0</td>\n",
       "      <td>0</td>\n",
       "      <td>0</td>\n",
       "      <td>0</td>\n",
       "      <td>0</td>\n",
       "      <td>0</td>\n",
       "      <td>1</td>\n",
       "      <td>2</td>\n",
       "      <td>1</td>\n",
       "    </tr>\n",
       "    <tr>\n",
       "      <th>1</th>\n",
       "      <td>0</td>\n",
       "      <td>1</td>\n",
       "      <td>0</td>\n",
       "      <td>0</td>\n",
       "      <td>0</td>\n",
       "      <td>0</td>\n",
       "      <td>0</td>\n",
       "      <td>0</td>\n",
       "      <td>1</td>\n",
       "      <td>0</td>\n",
       "      <td>0</td>\n",
       "    </tr>\n",
       "    <tr>\n",
       "      <th>2</th>\n",
       "      <td>0</td>\n",
       "      <td>0</td>\n",
       "      <td>0</td>\n",
       "      <td>2</td>\n",
       "      <td>0</td>\n",
       "      <td>0</td>\n",
       "      <td>0</td>\n",
       "      <td>0</td>\n",
       "      <td>1</td>\n",
       "      <td>1</td>\n",
       "      <td>1</td>\n",
       "    </tr>\n",
       "    <tr>\n",
       "      <th>3</th>\n",
       "      <td>0</td>\n",
       "      <td>0</td>\n",
       "      <td>0</td>\n",
       "      <td>0</td>\n",
       "      <td>1</td>\n",
       "      <td>0</td>\n",
       "      <td>0</td>\n",
       "      <td>0</td>\n",
       "      <td>0</td>\n",
       "      <td>0</td>\n",
       "      <td>0</td>\n",
       "    </tr>\n",
       "    <tr>\n",
       "      <th>4</th>\n",
       "      <td>0</td>\n",
       "      <td>0</td>\n",
       "      <td>1</td>\n",
       "      <td>0</td>\n",
       "      <td>0</td>\n",
       "      <td>0</td>\n",
       "      <td>1</td>\n",
       "      <td>1</td>\n",
       "      <td>0</td>\n",
       "      <td>0</td>\n",
       "      <td>1</td>\n",
       "    </tr>\n",
       "    <tr>\n",
       "      <th>5</th>\n",
       "      <td>1</td>\n",
       "      <td>0</td>\n",
       "      <td>0</td>\n",
       "      <td>0</td>\n",
       "      <td>0</td>\n",
       "      <td>1</td>\n",
       "      <td>0</td>\n",
       "      <td>0</td>\n",
       "      <td>0</td>\n",
       "      <td>0</td>\n",
       "      <td>0</td>\n",
       "    </tr>\n",
       "    <tr>\n",
       "      <th>0</th>\n",
       "      <td>0</td>\n",
       "      <td>0</td>\n",
       "      <td>0</td>\n",
       "      <td>0</td>\n",
       "      <td>0</td>\n",
       "      <td>0</td>\n",
       "      <td>1</td>\n",
       "      <td>0</td>\n",
       "      <td>0</td>\n",
       "      <td>0</td>\n",
       "      <td>1</td>\n",
       "    </tr>\n",
       "    <tr>\n",
       "      <th>1</th>\n",
       "      <td>0</td>\n",
       "      <td>0</td>\n",
       "      <td>0</td>\n",
       "      <td>0</td>\n",
       "      <td>0</td>\n",
       "      <td>0</td>\n",
       "      <td>0</td>\n",
       "      <td>0</td>\n",
       "      <td>2</td>\n",
       "      <td>2</td>\n",
       "      <td>0</td>\n",
       "    </tr>\n",
       "    <tr>\n",
       "      <th>2</th>\n",
       "      <td>0</td>\n",
       "      <td>0</td>\n",
       "      <td>0</td>\n",
       "      <td>0</td>\n",
       "      <td>0</td>\n",
       "      <td>0</td>\n",
       "      <td>0</td>\n",
       "      <td>0</td>\n",
       "      <td>1</td>\n",
       "      <td>0</td>\n",
       "      <td>1</td>\n",
       "    </tr>\n",
       "    <tr>\n",
       "      <th>3</th>\n",
       "      <td>0</td>\n",
       "      <td>0</td>\n",
       "      <td>0</td>\n",
       "      <td>0</td>\n",
       "      <td>0</td>\n",
       "      <td>0</td>\n",
       "      <td>0</td>\n",
       "      <td>0</td>\n",
       "      <td>0</td>\n",
       "      <td>0</td>\n",
       "      <td>0</td>\n",
       "    </tr>\n",
       "  </tbody>\n",
       "</table>\n",
       "</div>"
      ],
      "text/plain": [
       "   best  cmng  dn  fine  fn  friend  frnd  gr  r  u  gender\n",
       "0     0     2   0     0   0       0     0   0  1  2       1\n",
       "1     0     1   0     0   0       0     0   0  1  0       0\n",
       "2     0     0   0     2   0       0     0   0  1  1       1\n",
       "3     0     0   0     0   1       0     0   0  0  0       0\n",
       "4     0     0   1     0   0       0     1   1  0  0       1\n",
       "5     1     0   0     0   0       1     0   0  0  0       0\n",
       "0     0     0   0     0   0       0     1   0  0  0       1\n",
       "1     0     0   0     0   0       0     0   0  2  2       0\n",
       "2     0     0   0     0   0       0     0   0  1  0       1\n",
       "3     0     0   0     0   0       0     0   0  0  0       0"
      ]
     },
     "execution_count": 752,
     "metadata": {},
     "output_type": "execute_result"
    }
   ],
   "source": [
    "print('All Features in form of Dataframe:')\n",
    "train_test_data"
   ]
  },
  {
   "cell_type": "code",
   "execution_count": null,
   "metadata": {},
   "outputs": [],
   "source": []
  },
  {
   "cell_type": "markdown",
   "metadata": {},
   "source": [
    "### Step 8.2: Train Best Model (see Step 7) on all data(Train + Test)"
   ]
  },
  {
   "cell_type": "markdown",
   "metadata": {},
   "source": [
    "##### Which is Random forest in our case"
   ]
  },
  {
   "cell_type": "code",
   "execution_count": 753,
   "metadata": {
    "scrolled": true
   },
   "outputs": [
    {
     "data": {
      "text/plain": [
       "RandomForestClassifier(bootstrap=True, class_weight=None, criterion='gini',\n",
       "            max_depth=None, max_features='auto', max_leaf_nodes=None,\n",
       "            min_impurity_decrease=0.0, min_impurity_split=None,\n",
       "            min_samples_leaf=1, min_samples_split=2,\n",
       "            min_weight_fraction_leaf=0.0, n_estimators=10, n_jobs=1,\n",
       "            oob_score=False, random_state=None, verbose=0,\n",
       "            warm_start=False)"
      ]
     },
     "execution_count": 753,
     "metadata": {},
     "output_type": "execute_result"
    }
   ],
   "source": [
    "RandomForestClassifier"
   ]
  },
  {
   "cell_type": "code",
   "execution_count": 754,
   "metadata": {},
   "outputs": [],
   "source": [
    "from sklearn.ensemble import RandomForestClassifier\n",
    "RandomForestClassifier = RandomForestClassifier()\n",
    "X = train_test_data.drop('gender',axis=1)\n",
    "y = train_test_data['gender']\n",
    "\n",
    "trainedModel = RandomForestClassifier.fit(scipy.sparse.csr_matrix(X),y)\n"
   ]
  },
  {
   "cell_type": "code",
   "execution_count": null,
   "metadata": {},
   "outputs": [],
   "source": []
  },
  {
   "cell_type": "markdown",
   "metadata": {},
   "source": [
    "### Step 8.3: Save the Trained Model as Pickle File"
   ]
  },
  {
   "cell_type": "code",
   "execution_count": 762,
   "metadata": {},
   "outputs": [],
   "source": [
    "f = open('trainedModelfile','wb')\n",
    "pickle.dump(trainedModel,f)\n",
    "f.close()"
   ]
  },
  {
   "cell_type": "code",
   "execution_count": 763,
   "metadata": {},
   "outputs": [],
   "source": [
    "f = open('vectorCounterfile','wb')\n",
    "pickle.dump(vect,f)\n",
    "f.close()"
   ]
  },
  {
   "cell_type": "markdown",
   "metadata": {},
   "source": [
    "## Step 9: Make prediction on unseen/new data"
   ]
  },
  {
   "cell_type": "markdown",
   "metadata": {},
   "source": [
    "### Step 9.1: Load the Trained Model (saved in Step 8.3)"
   ]
  },
  {
   "cell_type": "code",
   "execution_count": 764,
   "metadata": {
    "scrolled": false
   },
   "outputs": [
    {
     "name": "stdout",
     "output_type": "stream",
     "text": [
      "Method for de-coding predicted value\n"
     ]
    }
   ],
   "source": [
    "print('Method for de-coding predicted value')\n",
    "def decodegender(data):\n",
    "    return data.map({0:'female',1:'male'})"
   ]
  },
  {
   "cell_type": "markdown",
   "metadata": {},
   "source": [
    "Method for preproccessing of User Input"
   ]
  },
  {
   "cell_type": "code",
   "execution_count": 765,
   "metadata": {},
   "outputs": [],
   "source": [
    "def preprocessdata(data):\n",
    "    data.comment_text = data.comment_text.str.lower()\n",
    "    data.comment_text = data.comment_text.str.replace(r'\\d+','')\n",
    "    data.comment_text = data.comment_text.str.replace(r'[!|”|#|$|%|&|\\'||(|)|*|+|,|-|.|/|:|;|<|=|>|?|@|[|]|^|_|`|{|||}|~|]','')\n",
    "    data.comment_text  = data.comment_text.str.strip()\n"
   ]
  },
  {
   "cell_type": "markdown",
   "metadata": {},
   "source": [
    "Load Trainned Model and text vectorizor from Memory"
   ]
  },
  {
   "cell_type": "code",
   "execution_count": 766,
   "metadata": {},
   "outputs": [],
   "source": [
    "\n",
    "f = open('trainedModelfile','rb')\n",
    "\n",
    "trained_model = pickle.load(f)\n",
    "f.close()\n",
    "f = open('vectorCounterfile','rb')\n",
    "vect = pickle.load(f)\n",
    "f.close()"
   ]
  },
  {
   "cell_type": "markdown",
   "metadata": {},
   "source": [
    "### Step 9.2: Take Input from User"
   ]
  },
  {
   "cell_type": "code",
   "execution_count": 767,
   "metadata": {},
   "outputs": [
    {
     "name": "stdout",
     "output_type": "stream",
     "text": [
      "Write your comment here: Plz go out, plz out with with frnd\n"
     ]
    }
   ],
   "source": [
    "text = input('Write your comment here: ')"
   ]
  },
  {
   "cell_type": "markdown",
   "metadata": {},
   "source": [
    "### Step 9.3: Convert User Input into Feature Vector (Same as Feature Vector of Trained Model)"
   ]
  },
  {
   "cell_type": "code",
   "execution_count": 768,
   "metadata": {},
   "outputs": [],
   "source": [
    "input_vector = pd.DataFrame({'comment_text':text},index=[0])"
   ]
  },
  {
   "cell_type": "code",
   "execution_count": 774,
   "metadata": {
    "scrolled": true
   },
   "outputs": [
    {
     "name": "stdout",
     "output_type": "stream",
     "text": [
      "User input in Actual DataFrame form:\n"
     ]
    },
    {
     "data": {
      "text/html": [
       "<div>\n",
       "<style scoped>\n",
       "    .dataframe tbody tr th:only-of-type {\n",
       "        vertical-align: middle;\n",
       "    }\n",
       "\n",
       "    .dataframe tbody tr th {\n",
       "        vertical-align: top;\n",
       "    }\n",
       "\n",
       "    .dataframe thead th {\n",
       "        text-align: right;\n",
       "    }\n",
       "</style>\n",
       "<table border=\"1\" class=\"dataframe\">\n",
       "  <thead>\n",
       "    <tr style=\"text-align: right;\">\n",
       "      <th></th>\n",
       "      <th>comment_text</th>\n",
       "    </tr>\n",
       "  </thead>\n",
       "  <tbody>\n",
       "    <tr>\n",
       "      <th>0</th>\n",
       "      <td>Plz go out, plz out with with frnd</td>\n",
       "    </tr>\n",
       "  </tbody>\n",
       "</table>\n",
       "</div>"
      ],
      "text/plain": [
       "                         comment_text\n",
       "0  Plz go out, plz out with with frnd"
      ]
     },
     "execution_count": 774,
     "metadata": {},
     "output_type": "execute_result"
    }
   ],
   "source": [
    "print('User input in Actual DataFrame form:')\n",
    "input_vector"
   ]
  },
  {
   "cell_type": "code",
   "execution_count": 775,
   "metadata": {},
   "outputs": [
    {
     "name": "stdout",
     "output_type": "stream",
     "text": [
      "Vector features: ['best', 'cmng', 'dn', 'fine', 'fn', 'friend', 'frnd', 'gr', 'r', 'u']\n"
     ]
    }
   ],
   "source": [
    "print('Vector features:',vect.get_feature_names())"
   ]
  },
  {
   "cell_type": "code",
   "execution_count": 776,
   "metadata": {},
   "outputs": [
    {
     "name": "stdout",
     "output_type": "stream",
     "text": [
      "preprocessed user input\n"
     ]
    }
   ],
   "source": [
    "print('preprocessed user input')\n",
    "preprocessdata(input_vector)"
   ]
  },
  {
   "cell_type": "code",
   "execution_count": 777,
   "metadata": {
    "scrolled": true
   },
   "outputs": [
    {
     "name": "stdout",
     "output_type": "stream",
     "text": [
      "User input after preprocessing:\n"
     ]
    },
    {
     "data": {
      "text/html": [
       "<div>\n",
       "<style scoped>\n",
       "    .dataframe tbody tr th:only-of-type {\n",
       "        vertical-align: middle;\n",
       "    }\n",
       "\n",
       "    .dataframe tbody tr th {\n",
       "        vertical-align: top;\n",
       "    }\n",
       "\n",
       "    .dataframe thead th {\n",
       "        text-align: right;\n",
       "    }\n",
       "</style>\n",
       "<table border=\"1\" class=\"dataframe\">\n",
       "  <thead>\n",
       "    <tr style=\"text-align: right;\">\n",
       "      <th></th>\n",
       "      <th>comment_text</th>\n",
       "    </tr>\n",
       "  </thead>\n",
       "  <tbody>\n",
       "    <tr>\n",
       "      <th>0</th>\n",
       "      <td>plz go out plz out with with frnd</td>\n",
       "    </tr>\n",
       "  </tbody>\n",
       "</table>\n",
       "</div>"
      ],
      "text/plain": [
       "                        comment_text\n",
       "0  plz go out plz out with with frnd"
      ]
     },
     "execution_count": 777,
     "metadata": {},
     "output_type": "execute_result"
    }
   ],
   "source": [
    "print(\"User input after preprocessing:\")\n",
    "input_vector"
   ]
  },
  {
   "cell_type": "code",
   "execution_count": 779,
   "metadata": {},
   "outputs": [
    {
     "name": "stdout",
     "output_type": "stream",
     "text": [
      "User input features with weights\n"
     ]
    },
    {
     "data": {
      "text/html": [
       "<div>\n",
       "<style scoped>\n",
       "    .dataframe tbody tr th:only-of-type {\n",
       "        vertical-align: middle;\n",
       "    }\n",
       "\n",
       "    .dataframe tbody tr th {\n",
       "        vertical-align: top;\n",
       "    }\n",
       "\n",
       "    .dataframe thead th {\n",
       "        text-align: right;\n",
       "    }\n",
       "</style>\n",
       "<table border=\"1\" class=\"dataframe\">\n",
       "  <thead>\n",
       "    <tr style=\"text-align: right;\">\n",
       "      <th></th>\n",
       "      <th>best</th>\n",
       "      <th>cmng</th>\n",
       "      <th>dn</th>\n",
       "      <th>fine</th>\n",
       "      <th>fn</th>\n",
       "      <th>friend</th>\n",
       "      <th>frnd</th>\n",
       "      <th>gr</th>\n",
       "      <th>r</th>\n",
       "      <th>u</th>\n",
       "    </tr>\n",
       "  </thead>\n",
       "  <tbody>\n",
       "    <tr>\n",
       "      <th>0</th>\n",
       "      <td>0</td>\n",
       "      <td>0</td>\n",
       "      <td>0</td>\n",
       "      <td>0</td>\n",
       "      <td>0</td>\n",
       "      <td>0</td>\n",
       "      <td>1</td>\n",
       "      <td>0</td>\n",
       "      <td>0</td>\n",
       "      <td>0</td>\n",
       "    </tr>\n",
       "  </tbody>\n",
       "</table>\n",
       "</div>"
      ],
      "text/plain": [
       "   best  cmng  dn  fine  fn  friend  frnd  gr  r  u\n",
       "0     0     0   0     0   0       0     1   0  0  0"
      ]
     },
     "execution_count": 779,
     "metadata": {},
     "output_type": "execute_result"
    }
   ],
   "source": [
    "input_vector_X = vect.transform(input_vector.comment_text)\n",
    "vect_user_input = pd.DataFrame(input_vector_X.toarray(),\n",
    "                               columns=vect.get_feature_names())\n",
    "print('User input features with weights')\n",
    "vect_user_input"
   ]
  },
  {
   "cell_type": "markdown",
   "metadata": {},
   "source": [
    "### Step 9.4: Apply Trained Model on Feature Vector of Unseen Data and Output Prediction (Male/Female) to User"
   ]
  },
  {
   "cell_type": "code",
   "execution_count": 780,
   "metadata": {},
   "outputs": [
    {
     "data": {
      "text/plain": [
       "array([1])"
      ]
     },
     "execution_count": 780,
     "metadata": {},
     "output_type": "execute_result"
    }
   ],
   "source": [
    "prediction_of_user_input = trained_model.predict(vect_user_input)\n",
    "prediction_of_user_input"
   ]
  },
  {
   "cell_type": "code",
   "execution_count": 781,
   "metadata": {},
   "outputs": [],
   "source": [
    "decoded_prediction_of_user_input = decodegender(pd.Series(prediction_of_user_input))[0]\n"
   ]
  },
  {
   "cell_type": "code",
   "execution_count": 782,
   "metadata": {},
   "outputs": [
    {
     "name": "stdout",
     "output_type": "stream",
     "text": [
      "Prediction :  male\n"
     ]
    }
   ],
   "source": [
    "print(\"Prediction : \",decoded_prediction_of_user_input)"
   ]
  },
  {
   "cell_type": "code",
   "execution_count": null,
   "metadata": {},
   "outputs": [],
   "source": []
  }
 ],
 "metadata": {
  "kernelspec": {
   "display_name": "Python 3",
   "language": "python",
   "name": "python3"
  },
  "language_info": {
   "codemirror_mode": {
    "name": "ipython",
    "version": 3
   },
   "file_extension": ".py",
   "mimetype": "text/x-python",
   "name": "python",
   "nbconvert_exporter": "python",
   "pygments_lexer": "ipython3",
   "version": "3.7.0"
  }
 },
 "nbformat": 4,
 "nbformat_minor": 2
}
