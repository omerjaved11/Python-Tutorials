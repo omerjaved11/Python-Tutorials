{
 "cells": [
  {
   "cell_type": "markdown",
   "metadata": {},
   "source": [
    "### Omer Javed\n",
    "### FA15-BCS-100"
   ]
  },
  {
   "cell_type": "markdown",
   "metadata": {},
   "source": [
    "### week 1  Day 3"
   ]
  },
  {
   "cell_type": "markdown",
   "metadata": {},
   "source": [
    "### Booleans and Conditionals "
   ]
  },
  {
   "cell_type": "code",
   "execution_count": 1,
   "metadata": {},
   "outputs": [],
   "source": [
    "#python has a datatype bool whose value can be True or False"
   ]
  },
  {
   "cell_type": "code",
   "execution_count": 4,
   "metadata": {},
   "outputs": [
    {
     "name": "stdout",
     "output_type": "stream",
     "text": [
      "True\n"
     ]
    },
    {
     "data": {
      "text/plain": [
       "bool"
      ]
     },
     "execution_count": 4,
     "metadata": {},
     "output_type": "execute_result"
    }
   ],
   "source": [
    "x = True\n",
    "print(x)\n",
    "type(x)"
   ]
  },
  {
   "cell_type": "markdown",
   "metadata": {},
   "source": [
    "### Comparison operators"
   ]
  },
  {
   "cell_type": "markdown",
   "metadata": {},
   "source": [
    "## Comparison Operators\n",
    "     ==\tIf the values of two operands are equal, then the condition becomes true.\n",
    "         (a == b) is not true.\n",
    "     !=\tIf values of two operands are not equal, then condition becomes true.\n",
    "         (a != b) is true.\n",
    "     <>\tIf values of two operands are not equal, then condition becomes true.\n",
    "         (a <> b) is true. This is similar to != operator.\n",
    "      >\tIf the value of left operand is greater than the value of right operand, then condition becomes true.\n",
    "         (a > b) is not true.\n",
    "      <\tIf the value of left operand is less than the value of right operand, then condition becomes true.\n",
    "          (a < b) is true.\n",
    "      >=\tIf the value of left operand is greater than or equal to the value of right operand, then condition becomes true.\n",
    "          (a >= b) is not true.\n",
    "     <=\tIf the value of left operand is less than or equal to the value of right operand, then condition becomes true.\n",
    "         (a <= b) is true."
   ]
  },
  {
   "cell_type": "code",
   "execution_count": 7,
   "metadata": {},
   "outputs": [
    {
     "data": {
      "text/plain": [
       "True"
      ]
     },
     "execution_count": 7,
     "metadata": {},
     "output_type": "execute_result"
    }
   ],
   "source": [
    "n = 5\n",
    "n == 5"
   ]
  },
  {
   "cell_type": "code",
   "execution_count": 8,
   "metadata": {},
   "outputs": [
    {
     "data": {
      "text/plain": [
       "False"
      ]
     },
     "execution_count": 8,
     "metadata": {},
     "output_type": "execute_result"
    }
   ],
   "source": [
    "n != 5"
   ]
  },
  {
   "cell_type": "code",
   "execution_count": 9,
   "metadata": {},
   "outputs": [
    {
     "data": {
      "text/plain": [
       "False"
      ]
     },
     "execution_count": 9,
     "metadata": {},
     "output_type": "execute_result"
    }
   ],
   "source": [
    "1 > 3"
   ]
  },
  {
   "cell_type": "code",
   "execution_count": 11,
   "metadata": {},
   "outputs": [
    {
     "data": {
      "text/plain": [
       "True"
      ]
     },
     "execution_count": 11,
     "metadata": {},
     "output_type": "execute_result"
    }
   ],
   "source": [
    "10 >= 10"
   ]
  },
  {
   "cell_type": "code",
   "execution_count": 12,
   "metadata": {},
   "outputs": [
    {
     "data": {
      "text/plain": [
       "False"
      ]
     },
     "execution_count": 12,
     "metadata": {},
     "output_type": "execute_result"
    }
   ],
   "source": [
    "15<=12"
   ]
  },
  {
   "cell_type": "code",
   "execution_count": 13,
   "metadata": {},
   "outputs": [
    {
     "data": {
      "text/plain": [
       "False"
      ]
     },
     "execution_count": 13,
     "metadata": {},
     "output_type": "execute_result"
    }
   ],
   "source": [
    "1==2"
   ]
  },
  {
   "cell_type": "code",
   "execution_count": 14,
   "metadata": {},
   "outputs": [
    {
     "data": {
      "text/plain": [
       "True"
      ]
     },
     "execution_count": 14,
     "metadata": {},
     "output_type": "execute_result"
    }
   ],
   "source": [
    "5!=6"
   ]
  },
  {
   "cell_type": "code",
   "execution_count": 15,
   "metadata": {},
   "outputs": [
    {
     "data": {
      "text/plain": [
       "True"
      ]
     },
     "execution_count": 15,
     "metadata": {},
     "output_type": "execute_result"
    }
   ],
   "source": [
    "'omer'!='OMER'"
   ]
  },
  {
   "cell_type": "code",
   "execution_count": 10,
   "metadata": {},
   "outputs": [
    {
     "data": {
      "text/plain": [
       "False"
      ]
     },
     "execution_count": 10,
     "metadata": {},
     "output_type": "execute_result"
    }
   ],
   "source": [
    "(1 < 2) and (2 < 1) \n",
    "# And operator  if all conditions are true \n",
    "# it will return true if any condition is false"
   ]
  },
  {
   "cell_type": "code",
   "execution_count": 17,
   "metadata": {},
   "outputs": [
    {
     "data": {
      "text/plain": [
       "True"
      ]
     },
     "execution_count": 17,
     "metadata": {},
     "output_type": "execute_result"
    }
   ],
   "source": [
    "(1 == 1) or (5 < 2) \n",
    "# OR operator if any of condition is true\n",
    "# it will return true if both are false it return false"
   ]
  },
  {
   "cell_type": "code",
   "execution_count": 18,
   "metadata": {},
   "outputs": [],
   "source": [
    "def isAdult(age):\n",
    "    return age>=18"
   ]
  },
  {
   "cell_type": "code",
   "execution_count": 20,
   "metadata": {},
   "outputs": [
    {
     "name": "stdout",
     "output_type": "stream",
     "text": [
      "False\n",
      "True\n"
     ]
    }
   ],
   "source": [
    "print(isAdult(3))\n",
    "print(isAdult(23))"
   ]
  },
  {
   "cell_type": "code",
   "execution_count": 21,
   "metadata": {},
   "outputs": [],
   "source": [
    "def isEven(n):\n",
    "    return (n % 2) == 0\n"
   ]
  },
  {
   "cell_type": "code",
   "execution_count": 23,
   "metadata": {},
   "outputs": [
    {
     "name": "stdout",
     "output_type": "stream",
     "text": [
      "Is 100 Even? True\n",
      "Is -1 Even? False\n"
     ]
    }
   ],
   "source": [
    "print(\"Is 100 Even?\", isEven(100))\n",
    "print(\"Is -1 Even?\", isEven(-1))"
   ]
  },
  {
   "cell_type": "code",
   "execution_count": 34,
   "metadata": {},
   "outputs": [
    {
     "data": {
      "text/plain": [
       "True"
      ]
     },
     "execution_count": 34,
     "metadata": {},
     "output_type": "execute_result"
    }
   ],
   "source": [
    "#precedence of login operators\n",
    "# AND has highest precedence level\n",
    "not(True) or True or True and False \n",
    "#but better way is to use parentheses for precedences"
   ]
  },
  {
   "cell_type": "code",
   "execution_count": 31,
   "metadata": {},
   "outputs": [
    {
     "data": {
      "text/plain": [
       "False"
      ]
     },
     "execution_count": 31,
     "metadata": {},
     "output_type": "execute_result"
    }
   ],
   "source": [
    "not(True)"
   ]
  },
  {
   "cell_type": "markdown",
   "metadata": {},
   "source": [
    "### Conditionals"
   ]
  },
  {
   "cell_type": "markdown",
   "metadata": {},
   "source": [
    "While useful enough in their own right, booleans really start to shine when combined with conditional statements, using the keywords if, elif, and else."
   ]
  },
  {
   "cell_type": "markdown",
   "metadata": {},
   "source": [
    "### if,elif, else Statements\n",
    "     * If statement is  combination of condition and block  if check whether condtion is true it will execute the block, otherwise skip block\n",
    "    * if else statement is combination of one condition and 2 blocks one of them will execute not both.\n",
    "        * An else statement can be combined with an if statement. An else statement contains the block of code that executes if the conditional expression in the if statement resolves to 0 or a FALSE value.\n",
    "        * The else statement is an optional statement and there could be at most only one else statement following if.\n",
    "\n",
    "### Syntax:\n",
    "    if elif and else have a colon after condition and block is defined using indentation.\n",
    "#### if (condition):\n",
    "        block\n",
    "#### else:\n",
    "        block"
   ]
  },
  {
   "cell_type": "code",
   "execution_count": 45,
   "metadata": {},
   "outputs": [
    {
     "name": "stdout",
     "output_type": "stream",
     "text": [
      "Yes\n"
     ]
    }
   ],
   "source": [
    "if 1<2:\n",
    "    print('Yes')"
   ]
  },
  {
   "cell_type": "code",
   "execution_count": 47,
   "metadata": {},
   "outputs": [
    {
     "name": "stdout",
     "output_type": "stream",
     "text": [
      "a is greater\n"
     ]
    }
   ],
   "source": [
    "a=7\n",
    "b=4\n",
    "c=6\n",
    "\n",
    "if(a>b):    # nested if else statements\n",
    "    if(a>c):\n",
    "        print('a is greater')\n",
    "    else:\n",
    "        print('c is greater')\n",
    "elif(c>b):\n",
    "    print('c is greater')\n",
    "else:\n",
    "    print('b is greater')"
   ]
  },
  {
   "cell_type": "code",
   "execution_count": 48,
   "metadata": {},
   "outputs": [
    {
     "name": "stdout",
     "output_type": "stream",
     "text": [
      "this will execute\n"
     ]
    }
   ],
   "source": [
    "condition = True\n",
    "if(condition):\n",
    "    print(\"this will execute\")"
   ]
  },
  {
   "cell_type": "code",
   "execution_count": 49,
   "metadata": {},
   "outputs": [
    {
     "name": "stdout",
     "output_type": "stream",
     "text": [
      "number is 3\n"
     ]
    }
   ],
   "source": [
    "number = 3\n",
    "if(number == 3 and condition):\n",
    "    print('number is 3')\n",
    "else:\n",
    "    print('number is not 3')"
   ]
  },
  {
   "cell_type": "code",
   "execution_count": 38,
   "metadata": {},
   "outputs": [],
   "source": [
    "#basic syntax of if else conditions\n",
    "#indentation is very important for defining functions if else and loop\n",
    "\n",
    "\n",
    "def inspect(x):\n",
    "    if x == 0:\n",
    "        print(x, \"is zero\")\n",
    "    elif x > 0:\n",
    "        print(x, \"is positive\")\n",
    "    elif x < 0:\n",
    "        print(x, \"is negative\")\n",
    "    else:\n",
    "        print(x, \"is unlike anything I've ever seen...\")"
   ]
  },
  {
   "cell_type": "code",
   "execution_count": 44,
   "metadata": {},
   "outputs": [
    {
     "name": "stdout",
     "output_type": "stream",
     "text": [
      "20 is positive\n",
      "-1 is negative\n",
      "0 is zero\n",
      "3.2 is positive\n"
     ]
    }
   ],
   "source": [
    "inspect(20)\n",
    "inspect(-1)\n",
    "inspect(0)\n",
    "inspect(3.2)"
   ]
  },
  {
   "cell_type": "markdown",
   "metadata": {},
   "source": [
    "### Type casting to boolean "
   ]
  },
  {
   "cell_type": "markdown",
   "metadata": {},
   "source": [
    "we can convert any datatype to boolean it depends on value of variable\n",
    "wheather it get True or False"
   ]
  },
  {
   "cell_type": "code",
   "execution_count": 55,
   "metadata": {},
   "outputs": [
    {
     "name": "stdout",
     "output_type": "stream",
     "text": [
      "<class 'int'> 1\n",
      "<class 'int'> 0\n",
      "<class 'int'> -1\n"
     ]
    }
   ],
   "source": [
    "x = 1\n",
    "y = 0\n",
    "z = -1\n",
    "print(type(x) , x)\n",
    "print(type(y) , y)\n",
    "print(type(z) , z)"
   ]
  },
  {
   "cell_type": "code",
   "execution_count": 57,
   "metadata": {},
   "outputs": [
    {
     "name": "stdout",
     "output_type": "stream",
     "text": [
      "<class 'bool'> True\n",
      "<class 'bool'> False\n",
      "<class 'bool'> True\n"
     ]
    }
   ],
   "source": [
    "x=bool(x)\n",
    "y=bool(y)\n",
    "z=bool(z)\n",
    "\n",
    "print(type(x) , x)\n",
    "print(type(y) , y)\n",
    "print(type(z) , z)\n",
    "#we have noticed that if value is zero it becomes false\n"
   ]
  },
  {
   "cell_type": "code",
   "execution_count": 64,
   "metadata": {},
   "outputs": [
    {
     "name": "stdout",
     "output_type": "stream",
     "text": [
      "False\n",
      "True\n",
      "True\n"
     ]
    }
   ],
   "source": [
    "print(bool(\"\"))\n",
    "print(bool(\"abc\"))\n",
    "print(bool(\" \"))\n",
    "\n",
    "#if string is empty it becomes false"
   ]
  },
  {
   "cell_type": "code",
   "execution_count": 61,
   "metadata": {},
   "outputs": [
    {
     "name": "stdout",
     "output_type": "stream",
     "text": [
      "spam\n"
     ]
    }
   ],
   "source": [
    "if 0:\n",
    "    print(0)\n",
    "elif \"spam\":\n",
    "    print(\"spam\")"
   ]
  },
  {
   "cell_type": "code",
   "execution_count": 66,
   "metadata": {},
   "outputs": [
    {
     "name": "stdout",
     "output_type": "stream",
     "text": [
      "-1 is true\n"
     ]
    }
   ],
   "source": [
    "if \"\":\n",
    "    print('empty is true')\n",
    "elif -1:\n",
    "    print('-1 is true')"
   ]
  },
  {
   "cell_type": "markdown",
   "metadata": {},
   "source": [
    "###  Conditional expressions (aka ’ternary’)"
   ]
  },
  {
   "cell_type": "code",
   "execution_count": 70,
   "metadata": {},
   "outputs": [
    {
     "name": "stdout",
     "output_type": "stream",
     "text": [
      "its even\n"
     ]
    }
   ],
   "source": [
    "# it's alternative of if else \n",
    "# it comes handy when we need to test in one line\n",
    "n=6\n",
    "if(n % 2)==0:\n",
    "    print('its even')\n",
    "else:\n",
    "    print('its odd')"
   ]
  },
  {
   "cell_type": "code",
   "execution_count": 72,
   "metadata": {},
   "outputs": [
    {
     "name": "stdout",
     "output_type": "stream",
     "text": [
      "its odd\n"
     ]
    }
   ],
   "source": [
    "n=7\n",
    "print(\"its even\" if n%2 == 0 else \"its odd\")"
   ]
  },
  {
   "cell_type": "code",
   "execution_count": 73,
   "metadata": {},
   "outputs": [
    {
     "name": "stdout",
     "output_type": "stream",
     "text": [
      "its even\n"
     ]
    }
   ],
   "source": [
    "n=8\n",
    "print(\"its even\" if n%2 == 0 else \"its odd\")"
   ]
  },
  {
   "cell_type": "code",
   "execution_count": 77,
   "metadata": {},
   "outputs": [
    {
     "name": "stdout",
     "output_type": "stream",
     "text": [
      "You NOT Adult by age of 15\n"
     ]
    }
   ],
   "source": [
    "def Adult(age):\n",
    "    status = 'Adult' if age > 17 else 'NOT Adult'\n",
    "    print('You', status, 'by age of', age)\n",
    "Adult(15)"
   ]
  }
 ],
 "metadata": {
  "kernelspec": {
   "display_name": "Python 3",
   "language": "python",
   "name": "python3"
  },
  "language_info": {
   "codemirror_mode": {
    "name": "ipython",
    "version": 3
   },
   "file_extension": ".py",
   "mimetype": "text/x-python",
   "name": "python",
   "nbconvert_exporter": "python",
   "pygments_lexer": "ipython3",
   "version": "3.7.0"
  }
 },
 "nbformat": 4,
 "nbformat_minor": 2
}
